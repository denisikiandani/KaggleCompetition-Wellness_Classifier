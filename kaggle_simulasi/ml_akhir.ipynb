{
 "cells": [
  {
   "cell_type": "markdown",
   "metadata": {},
   "source": [
    "# Import"
   ]
  },
  {
   "cell_type": "code",
   "execution_count": 59,
   "metadata": {
    "metadata": {}
   },
   "outputs": [],
   "source": [
    "import pandas as pd\n",
    "\n",
    "df = pd.read_csv('./train.csv', encoding='utf-8')\n",
    "df_test = pd.read_csv('./test.csv', encoding='utf-8')"
   ]
  },
  {
   "cell_type": "code",
   "execution_count": 60,
   "metadata": {
    "metadata": {}
   },
   "outputs": [
    {
     "data": {
      "text/plain": [
       "Index(['id', 'age', 'diet', 'drinks', 'drugs', 'education', 'ethnicity',\n",
       "       'height', 'income', 'job', 'offspring', 'orientation', 'pets',\n",
       "       'religion', 'sex', 'sign', 'smokes', 'speaks', 'status', 'fit_body'],\n",
       "      dtype='object')"
      ]
     },
     "execution_count": 60,
     "metadata": {},
     "output_type": "execute_result"
    }
   ],
   "source": [
    "df.columns"
   ]
  },
  {
   "cell_type": "code",
   "execution_count": 61,
   "metadata": {
    "metadata": {}
   },
   "outputs": [
    {
     "name": "stderr",
     "output_type": "stream",
     "text": [
      "C:\\Users\\Yodya Mahesa\\AppData\\Local\\Temp\\ipykernel_38776\\3925626441.py:1: FutureWarning: A value is trying to be set on a copy of a DataFrame or Series through chained assignment using an inplace method.\n",
      "The behavior will change in pandas 3.0. This inplace method will never work because the intermediate object on which we are setting values always behaves as a copy.\n",
      "\n",
      "For example, when doing 'df[col].method(value, inplace=True)', try using 'df.method({col: value}, inplace=True)' or df[col] = df[col].method(value) instead, to perform the operation inplace on the original object.\n",
      "\n",
      "\n",
      "  df['diet'].fillna(\"diet kosong\", inplace=True)\n",
      "C:\\Users\\Yodya Mahesa\\AppData\\Local\\Temp\\ipykernel_38776\\3925626441.py:2: FutureWarning: A value is trying to be set on a copy of a DataFrame or Series through chained assignment using an inplace method.\n",
      "The behavior will change in pandas 3.0. This inplace method will never work because the intermediate object on which we are setting values always behaves as a copy.\n",
      "\n",
      "For example, when doing 'df[col].method(value, inplace=True)', try using 'df.method({col: value}, inplace=True)' or df[col] = df[col].method(value) instead, to perform the operation inplace on the original object.\n",
      "\n",
      "\n",
      "  df['drinks'].fillna(\"drinks kosong\", inplace=True)\n",
      "C:\\Users\\Yodya Mahesa\\AppData\\Local\\Temp\\ipykernel_38776\\3925626441.py:3: FutureWarning: A value is trying to be set on a copy of a DataFrame or Series through chained assignment using an inplace method.\n",
      "The behavior will change in pandas 3.0. This inplace method will never work because the intermediate object on which we are setting values always behaves as a copy.\n",
      "\n",
      "For example, when doing 'df[col].method(value, inplace=True)', try using 'df.method({col: value}, inplace=True)' or df[col] = df[col].method(value) instead, to perform the operation inplace on the original object.\n",
      "\n",
      "\n",
      "  df['drugs'].fillna(\"drugs kosong\", inplace=True)\n",
      "C:\\Users\\Yodya Mahesa\\AppData\\Local\\Temp\\ipykernel_38776\\3925626441.py:4: FutureWarning: A value is trying to be set on a copy of a DataFrame or Series through chained assignment using an inplace method.\n",
      "The behavior will change in pandas 3.0. This inplace method will never work because the intermediate object on which we are setting values always behaves as a copy.\n",
      "\n",
      "For example, when doing 'df[col].method(value, inplace=True)', try using 'df.method({col: value}, inplace=True)' or df[col] = df[col].method(value) instead, to perform the operation inplace on the original object.\n",
      "\n",
      "\n",
      "  df['education'].fillna(\"education kosong\", inplace=True)\n",
      "C:\\Users\\Yodya Mahesa\\AppData\\Local\\Temp\\ipykernel_38776\\3925626441.py:5: FutureWarning: A value is trying to be set on a copy of a DataFrame or Series through chained assignment using an inplace method.\n",
      "The behavior will change in pandas 3.0. This inplace method will never work because the intermediate object on which we are setting values always behaves as a copy.\n",
      "\n",
      "For example, when doing 'df[col].method(value, inplace=True)', try using 'df.method({col: value}, inplace=True)' or df[col] = df[col].method(value) instead, to perform the operation inplace on the original object.\n",
      "\n",
      "\n",
      "  df['ethnicity'].fillna(\"ethnicity kosong\", inplace=True)\n",
      "C:\\Users\\Yodya Mahesa\\AppData\\Local\\Temp\\ipykernel_38776\\3925626441.py:6: FutureWarning: A value is trying to be set on a copy of a DataFrame or Series through chained assignment using an inplace method.\n",
      "The behavior will change in pandas 3.0. This inplace method will never work because the intermediate object on which we are setting values always behaves as a copy.\n",
      "\n",
      "For example, when doing 'df[col].method(value, inplace=True)', try using 'df.method({col: value}, inplace=True)' or df[col] = df[col].method(value) instead, to perform the operation inplace on the original object.\n",
      "\n",
      "\n",
      "  df['job'].fillna(\"job kosong\", inplace=True)\n",
      "C:\\Users\\Yodya Mahesa\\AppData\\Local\\Temp\\ipykernel_38776\\3925626441.py:7: FutureWarning: A value is trying to be set on a copy of a DataFrame or Series through chained assignment using an inplace method.\n",
      "The behavior will change in pandas 3.0. This inplace method will never work because the intermediate object on which we are setting values always behaves as a copy.\n",
      "\n",
      "For example, when doing 'df[col].method(value, inplace=True)', try using 'df.method({col: value}, inplace=True)' or df[col] = df[col].method(value) instead, to perform the operation inplace on the original object.\n",
      "\n",
      "\n",
      "  df['offspring'].fillna(\"offspring kosong\", inplace=True)\n",
      "C:\\Users\\Yodya Mahesa\\AppData\\Local\\Temp\\ipykernel_38776\\3925626441.py:8: FutureWarning: A value is trying to be set on a copy of a DataFrame or Series through chained assignment using an inplace method.\n",
      "The behavior will change in pandas 3.0. This inplace method will never work because the intermediate object on which we are setting values always behaves as a copy.\n",
      "\n",
      "For example, when doing 'df[col].method(value, inplace=True)', try using 'df.method({col: value}, inplace=True)' or df[col] = df[col].method(value) instead, to perform the operation inplace on the original object.\n",
      "\n",
      "\n",
      "  df['orientation'].fillna(\"orientation kosong\", inplace=True)\n",
      "C:\\Users\\Yodya Mahesa\\AppData\\Local\\Temp\\ipykernel_38776\\3925626441.py:9: FutureWarning: A value is trying to be set on a copy of a DataFrame or Series through chained assignment using an inplace method.\n",
      "The behavior will change in pandas 3.0. This inplace method will never work because the intermediate object on which we are setting values always behaves as a copy.\n",
      "\n",
      "For example, when doing 'df[col].method(value, inplace=True)', try using 'df.method({col: value}, inplace=True)' or df[col] = df[col].method(value) instead, to perform the operation inplace on the original object.\n",
      "\n",
      "\n",
      "  df['pets'].fillna(\"pets kosong\", inplace=True)\n",
      "C:\\Users\\Yodya Mahesa\\AppData\\Local\\Temp\\ipykernel_38776\\3925626441.py:10: FutureWarning: A value is trying to be set on a copy of a DataFrame or Series through chained assignment using an inplace method.\n",
      "The behavior will change in pandas 3.0. This inplace method will never work because the intermediate object on which we are setting values always behaves as a copy.\n",
      "\n",
      "For example, when doing 'df[col].method(value, inplace=True)', try using 'df.method({col: value}, inplace=True)' or df[col] = df[col].method(value) instead, to perform the operation inplace on the original object.\n",
      "\n",
      "\n",
      "  df['religion'].fillna(\"religion kosong\", inplace=True)  # Correction: fill religion, not sex\n",
      "C:\\Users\\Yodya Mahesa\\AppData\\Local\\Temp\\ipykernel_38776\\3925626441.py:11: FutureWarning: A value is trying to be set on a copy of a DataFrame or Series through chained assignment using an inplace method.\n",
      "The behavior will change in pandas 3.0. This inplace method will never work because the intermediate object on which we are setting values always behaves as a copy.\n",
      "\n",
      "For example, when doing 'df[col].method(value, inplace=True)', try using 'df.method({col: value}, inplace=True)' or df[col] = df[col].method(value) instead, to perform the operation inplace on the original object.\n",
      "\n",
      "\n",
      "  df['sign'].fillna(\"sign kosong\", inplace=True)\n",
      "C:\\Users\\Yodya Mahesa\\AppData\\Local\\Temp\\ipykernel_38776\\3925626441.py:12: FutureWarning: A value is trying to be set on a copy of a DataFrame or Series through chained assignment using an inplace method.\n",
      "The behavior will change in pandas 3.0. This inplace method will never work because the intermediate object on which we are setting values always behaves as a copy.\n",
      "\n",
      "For example, when doing 'df[col].method(value, inplace=True)', try using 'df.method({col: value}, inplace=True)' or df[col] = df[col].method(value) instead, to perform the operation inplace on the original object.\n",
      "\n",
      "\n",
      "  df['smokes'].fillna(\"smokes kosong\", inplace=True)\n",
      "C:\\Users\\Yodya Mahesa\\AppData\\Local\\Temp\\ipykernel_38776\\3925626441.py:13: FutureWarning: A value is trying to be set on a copy of a DataFrame or Series through chained assignment using an inplace method.\n",
      "The behavior will change in pandas 3.0. This inplace method will never work because the intermediate object on which we are setting values always behaves as a copy.\n",
      "\n",
      "For example, when doing 'df[col].method(value, inplace=True)', try using 'df.method({col: value}, inplace=True)' or df[col] = df[col].method(value) instead, to perform the operation inplace on the original object.\n",
      "\n",
      "\n",
      "  df['speaks'].fillna(\"speaks kosong\", inplace=True)\n",
      "C:\\Users\\Yodya Mahesa\\AppData\\Local\\Temp\\ipykernel_38776\\3925626441.py:14: FutureWarning: A value is trying to be set on a copy of a DataFrame or Series through chained assignment using an inplace method.\n",
      "The behavior will change in pandas 3.0. This inplace method will never work because the intermediate object on which we are setting values always behaves as a copy.\n",
      "\n",
      "For example, when doing 'df[col].method(value, inplace=True)', try using 'df.method({col: value}, inplace=True)' or df[col] = df[col].method(value) instead, to perform the operation inplace on the original object.\n",
      "\n",
      "\n",
      "  df['status'].fillna(\"status kosong\", inplace=True)\n",
      "C:\\Users\\Yodya Mahesa\\AppData\\Local\\Temp\\ipykernel_38776\\3925626441.py:16: FutureWarning: A value is trying to be set on a copy of a DataFrame or Series through chained assignment using an inplace method.\n",
      "The behavior will change in pandas 3.0. This inplace method will never work because the intermediate object on which we are setting values always behaves as a copy.\n",
      "\n",
      "For example, when doing 'df[col].method(value, inplace=True)', try using 'df.method({col: value}, inplace=True)' or df[col] = df[col].method(value) instead, to perform the operation inplace on the original object.\n",
      "\n",
      "\n",
      "  df_test['diet'].fillna(\"diet kosong\", inplace=True)\n",
      "C:\\Users\\Yodya Mahesa\\AppData\\Local\\Temp\\ipykernel_38776\\3925626441.py:17: FutureWarning: A value is trying to be set on a copy of a DataFrame or Series through chained assignment using an inplace method.\n",
      "The behavior will change in pandas 3.0. This inplace method will never work because the intermediate object on which we are setting values always behaves as a copy.\n",
      "\n",
      "For example, when doing 'df[col].method(value, inplace=True)', try using 'df.method({col: value}, inplace=True)' or df[col] = df[col].method(value) instead, to perform the operation inplace on the original object.\n",
      "\n",
      "\n",
      "  df_test['drinks'].fillna(\"drinks kosong\", inplace=True)\n",
      "C:\\Users\\Yodya Mahesa\\AppData\\Local\\Temp\\ipykernel_38776\\3925626441.py:18: FutureWarning: A value is trying to be set on a copy of a DataFrame or Series through chained assignment using an inplace method.\n",
      "The behavior will change in pandas 3.0. This inplace method will never work because the intermediate object on which we are setting values always behaves as a copy.\n",
      "\n",
      "For example, when doing 'df[col].method(value, inplace=True)', try using 'df.method({col: value}, inplace=True)' or df[col] = df[col].method(value) instead, to perform the operation inplace on the original object.\n",
      "\n",
      "\n",
      "  df_test['drugs'].fillna(\"drugs kosong\", inplace=True)\n",
      "C:\\Users\\Yodya Mahesa\\AppData\\Local\\Temp\\ipykernel_38776\\3925626441.py:19: FutureWarning: A value is trying to be set on a copy of a DataFrame or Series through chained assignment using an inplace method.\n",
      "The behavior will change in pandas 3.0. This inplace method will never work because the intermediate object on which we are setting values always behaves as a copy.\n",
      "\n",
      "For example, when doing 'df[col].method(value, inplace=True)', try using 'df.method({col: value}, inplace=True)' or df[col] = df[col].method(value) instead, to perform the operation inplace on the original object.\n",
      "\n",
      "\n",
      "  df_test['education'].fillna(\"education kosong\", inplace=True)\n",
      "C:\\Users\\Yodya Mahesa\\AppData\\Local\\Temp\\ipykernel_38776\\3925626441.py:20: FutureWarning: A value is trying to be set on a copy of a DataFrame or Series through chained assignment using an inplace method.\n",
      "The behavior will change in pandas 3.0. This inplace method will never work because the intermediate object on which we are setting values always behaves as a copy.\n",
      "\n",
      "For example, when doing 'df[col].method(value, inplace=True)', try using 'df.method({col: value}, inplace=True)' or df[col] = df[col].method(value) instead, to perform the operation inplace on the original object.\n",
      "\n",
      "\n",
      "  df_test['ethnicity'].fillna(\"ethnicity kosong\", inplace=True)\n",
      "C:\\Users\\Yodya Mahesa\\AppData\\Local\\Temp\\ipykernel_38776\\3925626441.py:21: FutureWarning: A value is trying to be set on a copy of a DataFrame or Series through chained assignment using an inplace method.\n",
      "The behavior will change in pandas 3.0. This inplace method will never work because the intermediate object on which we are setting values always behaves as a copy.\n",
      "\n",
      "For example, when doing 'df[col].method(value, inplace=True)', try using 'df.method({col: value}, inplace=True)' or df[col] = df[col].method(value) instead, to perform the operation inplace on the original object.\n",
      "\n",
      "\n",
      "  df_test['job'].fillna(\"job kosong\", inplace=True)\n",
      "C:\\Users\\Yodya Mahesa\\AppData\\Local\\Temp\\ipykernel_38776\\3925626441.py:22: FutureWarning: A value is trying to be set on a copy of a DataFrame or Series through chained assignment using an inplace method.\n",
      "The behavior will change in pandas 3.0. This inplace method will never work because the intermediate object on which we are setting values always behaves as a copy.\n",
      "\n",
      "For example, when doing 'df[col].method(value, inplace=True)', try using 'df.method({col: value}, inplace=True)' or df[col] = df[col].method(value) instead, to perform the operation inplace on the original object.\n",
      "\n",
      "\n",
      "  df_test['offspring'].fillna(\"offspring kosong\", inplace=True)\n",
      "C:\\Users\\Yodya Mahesa\\AppData\\Local\\Temp\\ipykernel_38776\\3925626441.py:23: FutureWarning: A value is trying to be set on a copy of a DataFrame or Series through chained assignment using an inplace method.\n",
      "The behavior will change in pandas 3.0. This inplace method will never work because the intermediate object on which we are setting values always behaves as a copy.\n",
      "\n",
      "For example, when doing 'df[col].method(value, inplace=True)', try using 'df.method({col: value}, inplace=True)' or df[col] = df[col].method(value) instead, to perform the operation inplace on the original object.\n",
      "\n",
      "\n",
      "  df_test['orientation'].fillna(\"orientation kosong\", inplace=True)\n",
      "C:\\Users\\Yodya Mahesa\\AppData\\Local\\Temp\\ipykernel_38776\\3925626441.py:24: FutureWarning: A value is trying to be set on a copy of a DataFrame or Series through chained assignment using an inplace method.\n",
      "The behavior will change in pandas 3.0. This inplace method will never work because the intermediate object on which we are setting values always behaves as a copy.\n",
      "\n",
      "For example, when doing 'df[col].method(value, inplace=True)', try using 'df.method({col: value}, inplace=True)' or df[col] = df[col].method(value) instead, to perform the operation inplace on the original object.\n",
      "\n",
      "\n",
      "  df_test['pets'].fillna(\"pets kosong\", inplace=True)\n",
      "C:\\Users\\Yodya Mahesa\\AppData\\Local\\Temp\\ipykernel_38776\\3925626441.py:25: FutureWarning: A value is trying to be set on a copy of a DataFrame or Series through chained assignment using an inplace method.\n",
      "The behavior will change in pandas 3.0. This inplace method will never work because the intermediate object on which we are setting values always behaves as a copy.\n",
      "\n",
      "For example, when doing 'df[col].method(value, inplace=True)', try using 'df.method({col: value}, inplace=True)' or df[col] = df[col].method(value) instead, to perform the operation inplace on the original object.\n",
      "\n",
      "\n",
      "  df_test['religion'].fillna(\"religion kosong\", inplace=True)  # Correction: fill religion, not sex\n",
      "C:\\Users\\Yodya Mahesa\\AppData\\Local\\Temp\\ipykernel_38776\\3925626441.py:26: FutureWarning: A value is trying to be set on a copy of a DataFrame or Series through chained assignment using an inplace method.\n",
      "The behavior will change in pandas 3.0. This inplace method will never work because the intermediate object on which we are setting values always behaves as a copy.\n",
      "\n",
      "For example, when doing 'df[col].method(value, inplace=True)', try using 'df.method({col: value}, inplace=True)' or df[col] = df[col].method(value) instead, to perform the operation inplace on the original object.\n",
      "\n",
      "\n",
      "  df_test['sign'].fillna(\"sign kosong\", inplace=True)\n",
      "C:\\Users\\Yodya Mahesa\\AppData\\Local\\Temp\\ipykernel_38776\\3925626441.py:27: FutureWarning: A value is trying to be set on a copy of a DataFrame or Series through chained assignment using an inplace method.\n",
      "The behavior will change in pandas 3.0. This inplace method will never work because the intermediate object on which we are setting values always behaves as a copy.\n",
      "\n",
      "For example, when doing 'df[col].method(value, inplace=True)', try using 'df.method({col: value}, inplace=True)' or df[col] = df[col].method(value) instead, to perform the operation inplace on the original object.\n",
      "\n",
      "\n",
      "  df_test['smokes'].fillna(\"smokes kosong\", inplace=True)\n",
      "C:\\Users\\Yodya Mahesa\\AppData\\Local\\Temp\\ipykernel_38776\\3925626441.py:28: FutureWarning: A value is trying to be set on a copy of a DataFrame or Series through chained assignment using an inplace method.\n",
      "The behavior will change in pandas 3.0. This inplace method will never work because the intermediate object on which we are setting values always behaves as a copy.\n",
      "\n",
      "For example, when doing 'df[col].method(value, inplace=True)', try using 'df.method({col: value}, inplace=True)' or df[col] = df[col].method(value) instead, to perform the operation inplace on the original object.\n",
      "\n",
      "\n",
      "  df_test['speaks'].fillna(\"speaks kosong\", inplace=True)\n",
      "C:\\Users\\Yodya Mahesa\\AppData\\Local\\Temp\\ipykernel_38776\\3925626441.py:29: FutureWarning: A value is trying to be set on a copy of a DataFrame or Series through chained assignment using an inplace method.\n",
      "The behavior will change in pandas 3.0. This inplace method will never work because the intermediate object on which we are setting values always behaves as a copy.\n",
      "\n",
      "For example, when doing 'df[col].method(value, inplace=True)', try using 'df.method({col: value}, inplace=True)' or df[col] = df[col].method(value) instead, to perform the operation inplace on the original object.\n",
      "\n",
      "\n",
      "  df_test['status'].fillna(\"status kosong\", inplace=True)\n"
     ]
    }
   ],
   "source": [
    "df['diet'].fillna(\"diet kosong\", inplace=True)\n",
    "df['drinks'].fillna(\"drinks kosong\", inplace=True)\n",
    "df['drugs'].fillna(\"drugs kosong\", inplace=True)\n",
    "df['education'].fillna(\"education kosong\", inplace=True)\n",
    "df['ethnicity'].fillna(\"ethnicity kosong\", inplace=True)\n",
    "df['job'].fillna(\"job kosong\", inplace=True)\n",
    "df['offspring'].fillna(\"offspring kosong\", inplace=True)\n",
    "df['orientation'].fillna(\"orientation kosong\", inplace=True)\n",
    "df['pets'].fillna(\"pets kosong\", inplace=True)\n",
    "df['religion'].fillna(\"religion kosong\", inplace=True)  # Correction: fill religion, not sex\n",
    "df['sign'].fillna(\"sign kosong\", inplace=True)\n",
    "df['smokes'].fillna(\"smokes kosong\", inplace=True)\n",
    "df['speaks'].fillna(\"speaks kosong\", inplace=True)\n",
    "df['status'].fillna(\"status kosong\", inplace=True)\n",
    "\n",
    "df_test['diet'].fillna(\"diet kosong\", inplace=True)\n",
    "df_test['drinks'].fillna(\"drinks kosong\", inplace=True)\n",
    "df_test['drugs'].fillna(\"drugs kosong\", inplace=True)\n",
    "df_test['education'].fillna(\"education kosong\", inplace=True)\n",
    "df_test['ethnicity'].fillna(\"ethnicity kosong\", inplace=True)\n",
    "df_test['job'].fillna(\"job kosong\", inplace=True)\n",
    "df_test['offspring'].fillna(\"offspring kosong\", inplace=True)\n",
    "df_test['orientation'].fillna(\"orientation kosong\", inplace=True)\n",
    "df_test['pets'].fillna(\"pets kosong\", inplace=True)\n",
    "df_test['religion'].fillna(\"religion kosong\", inplace=True)  # Correction: fill religion, not sex\n",
    "df_test['sign'].fillna(\"sign kosong\", inplace=True)\n",
    "df_test['smokes'].fillna(\"smokes kosong\", inplace=True)\n",
    "df_test['speaks'].fillna(\"speaks kosong\", inplace=True)\n",
    "df_test['status'].fillna(\"status kosong\", inplace=True)"
   ]
  },
  {
   "cell_type": "markdown",
   "metadata": {},
   "source": [
    "# Process Kolom Diet"
   ]
  },
  {
   "cell_type": "code",
   "execution_count": 62,
   "metadata": {
    "metadata": {}
   },
   "outputs": [],
   "source": [
    "def get_diet_status(diet):\n",
    "    value = diet.lower()\n",
    "    if 'mostly' in value:\n",
    "        return 'mostly'\n",
    "    elif 'strictly' in value:\n",
    "        return 'strictly'\n",
    "    elif value != \"diet kosong\" :\n",
    "        return 'normal'\n",
    "    else:\n",
    "        pass\n",
    "\n",
    "def get_diet_food(diet):\n",
    "    value = diet.lower()\n",
    "    if 'mostly' in value:\n",
    "        return value.split(' ')[1]\n",
    "    elif 'strictly' in value:\n",
    "        return value.split(' ')[1]\n",
    "    elif value != \"diet kosong\":\n",
    "        return value\n",
    "    else:\n",
    "        pass\n",
    "\n",
    "df['diet status'] = df['diet'].apply(get_diet_status)\n",
    "df['diet food'] = df['diet'].apply(get_diet_food)\n",
    "df = df.drop('diet', axis=1)\n",
    "\n",
    "df_test['diet status'] = df_test['diet'].apply(get_diet_status)\n",
    "df_test['diet food'] = df_test['diet'].apply(get_diet_food)\n",
    "df_test = df_test.drop('diet', axis=1)"
   ]
  },
  {
   "cell_type": "markdown",
   "metadata": {},
   "source": [
    "# Process Kolom Education"
   ]
  },
  {
   "cell_type": "code",
   "execution_count": 63,
   "metadata": {
    "metadata": {}
   },
   "outputs": [],
   "source": [
    "def get_education_status(education):\n",
    "    value = education.lower()\n",
    "    if 'graduated' in value:\n",
    "        return 'graduated'\n",
    "    elif 'dropped out' in value:\n",
    "        return 'dropped out'\n",
    "    elif 'working on' in value:\n",
    "        return 'working on'\n",
    "    elif value != \"education kosong\":\n",
    "        return 'educated'\n",
    "    else:\n",
    "        pass\n",
    "\n",
    "def get_education_school(education):\n",
    "    value = education.lower()\n",
    "    if 'graduated' in value:\n",
    "        return value.split('from ')[1]\n",
    "    elif 'dropped out' in value:\n",
    "        return value.split('of ')[1]\n",
    "    elif 'working on' in value:\n",
    "        return value.split('on ')[1]\n",
    "    elif value != \"education kosong\":\n",
    "        return value\n",
    "    else:\n",
    "        pass\n",
    "        \n",
    "\n",
    "df['education status'] = df['education'].apply(get_education_status)\n",
    "df['education school'] = df['education'].apply(get_education_school)\n",
    "df = df.drop('education', axis=1)\n",
    "\n",
    "df_test['education status'] = df_test['education'].apply(get_education_status)\n",
    "df_test['education school'] = df_test['education'].apply(get_education_school)\n",
    "df_test = df_test.drop('education', axis=1)\n"
   ]
  },
  {
   "cell_type": "markdown",
   "metadata": {},
   "source": [
    "# Process Kolom Etnis"
   ]
  },
  {
   "cell_type": "code",
   "execution_count": 64,
   "metadata": {
    "metadata": {}
   },
   "outputs": [],
   "source": [
    "# Ubah kolom 'etnis' menjadi one-hot encoder\n",
    "one_hot_encoded = df['ethnicity'].str.get_dummies(sep=', ')\n",
    "one_hot_encoded = one_hot_encoded.add_prefix('etnis_')\n",
    "\n",
    "# Gabungkan one-hot encoder dengan DataFrame awal berdasarkan indeks\n",
    "df = pd.concat([df, one_hot_encoded], axis=1)\n",
    "df = df.drop('ethnicity', axis=1)\n",
    "\n",
    "\n",
    "# Ubah kolom 'etnis' menjadi one-hot encoder\n",
    "one_hot_encoded = df_test['ethnicity'].str.get_dummies(sep=', ')\n",
    "one_hot_encoded = one_hot_encoded.add_prefix('etnis_')\n",
    "\n",
    "# Gabungkan one-hot encoder dengan DataFrame awal berdasarkan indeks\n",
    "df_test = pd.concat([df_test, one_hot_encoded], axis=1)\n",
    "df_test = df_test.drop('ethnicity', axis=1)"
   ]
  },
  {
   "cell_type": "markdown",
   "metadata": {},
   "source": [
    "# Process Kolom Offspring"
   ]
  },
  {
   "cell_type": "code",
   "execution_count": 65,
   "metadata": {
    "metadata": {}
   },
   "outputs": [],
   "source": [
    "# Periksa apakah ada karakter 'petik'\n",
    "if df['offspring'].str.contains('&rsquo;').any():\n",
    "# Ganti karakter 'petik' dengan apostrof (')\n",
    "  df['offspring'] = df['offspring'].str.replace('&rsquo;', '\\'')\n",
    "\n",
    "\n",
    "# Periksa apakah ada karakter 'petik'\n",
    "if df_test['offspring'].str.contains('&rsquo;').any():\n",
    "# Ganti karakter 'petik' dengan apostrof (')\n",
    "  df_test['offspring'] = df_test['offspring'].str.replace('&rsquo;', '\\'')"
   ]
  },
  {
   "cell_type": "code",
   "execution_count": 66,
   "metadata": {
    "metadata": {}
   },
   "outputs": [],
   "source": [
    "def get_offspring_status(offspring):\n",
    "    value = offspring.lower()\n",
    "    if 'has a kid' in value:\n",
    "        return 'has a kid'\n",
    "    elif 'has kids' in value:\n",
    "        return 'has kids'\n",
    "    elif \"doesn't have kids\" in value:\n",
    "        return \"doesn't have kids\"\n",
    "    elif \"doesn't want kids\" in value:\n",
    "        return \"doesn't want kids\"\n",
    "    elif value != \"offspring kosong\" :\n",
    "        return 'no offspring status'\n",
    "    else:\n",
    "        pass\n",
    "\n",
    "def get_offspring_hope(offspring):\n",
    "    value = offspring.lower()\n",
    "    if 'wants more' in value:\n",
    "        return 'wants more'\n",
    "    elif 'might want more' in value:\n",
    "        return 'might want more'\n",
    "    elif \"doesn't want more\" in value:\n",
    "        return \"doesn't want more\"\n",
    "    elif \"might want kids\" in value:\n",
    "        return \"might want kids\"\n",
    "    elif \"doesn't want any\" in value:\n",
    "        return \"doesn't want any\"\n",
    "    elif \"wants kids\" in value:\n",
    "        return \"wants kids\"\n",
    "    elif value != \"offspring kosong\":\n",
    "        return 'no offspring hope'\n",
    "    else:\n",
    "        pass\n",
    "\n",
    "df['offspring status'] = df['offspring'].apply(get_offspring_status)\n",
    "df['offspring hope'] = df['offspring'].apply(get_offspring_hope)\n",
    "df = df.drop('offspring', axis=1)\n",
    "\n",
    "\n",
    "df_test['offspring status'] = df_test['offspring'].apply(get_offspring_status)\n",
    "df_test['offspring hope'] = df_test['offspring'].apply(get_offspring_hope)\n",
    "df_test = df_test.drop('offspring', axis=1)\n"
   ]
  },
  {
   "cell_type": "markdown",
   "metadata": {},
   "source": [
    "# Process Kolom Pets"
   ]
  },
  {
   "cell_type": "code",
   "execution_count": 67,
   "metadata": {
    "metadata": {}
   },
   "outputs": [],
   "source": [
    "def has_dogs(value):\n",
    "    value = value.lower()\n",
    "    if 'has dogs' in value:\n",
    "        return True\n",
    "    else:\n",
    "        return False\n",
    "\n",
    "def has_cats(value):\n",
    "    value = value.lower()\n",
    "    if 'has cats' in value:\n",
    "        return True\n",
    "    else:\n",
    "        return False\n",
    "\n",
    "def likes_dogs(value):\n",
    "    value = value.lower()\n",
    "    if 'likes dogs' in value:\n",
    "        return True\n",
    "    else:\n",
    "        return False\n",
    "\n",
    "def dislikes_dogs(value):\n",
    "    value = value.lower()\n",
    "    if 'dislikes dogs' in value:\n",
    "        return True\n",
    "    else:\n",
    "        return False\n",
    "\n",
    "def likes_cats(value):\n",
    "    value = value.lower()\n",
    "    if 'likes cats' in value:\n",
    "        return True\n",
    "    else:\n",
    "        return False\n",
    "\n",
    "def dislikes_cats(value):\n",
    "    value = value.lower()\n",
    "    if 'dislikes cats' in value:\n",
    "        return True\n",
    "    else:\n",
    "        return False\n",
    "\n",
    "# Apply functions to create boolean columns\n",
    "df['has_dogs'] = df['pets'].apply(has_dogs)\n",
    "df['has_cats'] = df['pets'].apply(has_cats)\n",
    "df['likes_dogs'] = df['pets'].apply(likes_dogs)\n",
    "df['dislikes_dogs'] = df['pets'].apply(dislikes_dogs)\n",
    "df['likes_cats'] = df['pets'].apply(likes_cats)\n",
    "df['dislikes_cats'] = df['pets'].apply(dislikes_cats)\n",
    "\n",
    "# Drop original 'pets' column\n",
    "df = df.drop('pets', axis=1)\n",
    "\n",
    "\n",
    "# Apply functions to create boolean columns\n",
    "df_test['has_dogs'] = df_test['pets'].apply(has_dogs)\n",
    "df_test['has_cats'] = df_test['pets'].apply(has_cats)\n",
    "df_test['likes_dogs'] = df_test['pets'].apply(likes_dogs)\n",
    "df_test['dislikes_dogs'] = df_test['pets'].apply(dislikes_dogs)\n",
    "df_test['likes_cats'] = df_test['pets'].apply(likes_cats)\n",
    "df_test['dislikes_cats'] = df_test['pets'].apply(dislikes_cats)\n",
    "\n",
    "# Drop original 'pets' column\n",
    "df_test = df_test.drop('pets', axis=1)"
   ]
  },
  {
   "cell_type": "markdown",
   "metadata": {},
   "source": [
    "# Process Kolom Religion"
   ]
  },
  {
   "cell_type": "code",
   "execution_count": 68,
   "metadata": {
    "metadata": {}
   },
   "outputs": [],
   "source": [
    "def get_religion_status(religion):\n",
    "    value = religion.lower()\n",
    "    if len(value.split(\" \")) == 1:\n",
    "        return value\n",
    "    if 'agnosticism' in value:\n",
    "        return 'agnosticism'\n",
    "    elif 'atheism' in value:\n",
    "        return 'atheism'\n",
    "    elif \"buddhism\" in value:\n",
    "        return \"buddhism\"\n",
    "    elif \"catholicism\" in value:\n",
    "        return \"catholicism\"\n",
    "    elif \"christianity\" in value:\n",
    "        return \"christianity\"\n",
    "    elif \"hinduism\" in value:\n",
    "        return \"hinduism\"\n",
    "    elif \"islam\" in value:\n",
    "        return \"islam\"\n",
    "    elif \"judaism\" in value:\n",
    "        return \"judaism\"\n",
    "    elif \"other\" in value:\n",
    "        return \"other\"\n",
    "    elif value != \"religion kosong\" :\n",
    "        return 'no religion status'\n",
    "    else:\n",
    "        pass\n",
    "\n",
    "def get_religion_opinion(religion):\n",
    "    value = religion.lower()\n",
    "    if 'laughing about it' in value:\n",
    "        return 'laughing about it'\n",
    "    elif 'somewhat serious about it' in value:\n",
    "        return 'somewhat serious about it'\n",
    "    elif \"very serious about it\" in value:\n",
    "        return \"very serious about it\"\n",
    "    elif \"not too serious about it\" in value:\n",
    "        return \"not too serious about it\"\n",
    "    elif value != \"religion kosong\":\n",
    "        return 'no religion opinion'\n",
    "    else:\n",
    "        pass\n",
    "\n",
    "df['religion status'] = df['religion'].apply(get_religion_status)\n",
    "df['religion opinion'] = df['religion'].apply(get_religion_opinion)\n",
    "df = df.drop('religion', axis=1)\n",
    "\n",
    "\n",
    "df_test['religion status'] = df_test['religion'].apply(get_religion_status)\n",
    "df_test['religion opinion'] = df_test['religion'].apply(get_religion_opinion)\n",
    "df_test = df_test.drop('religion', axis=1)"
   ]
  },
  {
   "cell_type": "markdown",
   "metadata": {},
   "source": [
    "# Process Kolom Sign"
   ]
  },
  {
   "cell_type": "code",
   "execution_count": 69,
   "metadata": {
    "metadata": {}
   },
   "outputs": [],
   "source": [
    "# Periksa apakah ada karakter 'petik'\n",
    "if df['sign'].str.contains('&rsquo;').any():\n",
    "# Ganti karakter 'petik' dengan apostrof (')\n",
    "    df['sign'] = df['sign'].str.replace('&rsquo;', '\\'')\n",
    "\n",
    "\n",
    "# Periksa apakah ada karakter 'petik'\n",
    "if df_test['sign'].str.contains('&rsquo;').any():\n",
    "    # Ganti karakter 'petik' dengan apostrof (')\n",
    "        df_test['sign'] = df_test['sign'].str.replace('&rsquo;', '\\'')"
   ]
  },
  {
   "cell_type": "code",
   "execution_count": 70,
   "metadata": {
    "metadata": {}
   },
   "outputs": [],
   "source": [
    "def get_sign_status(sign):\n",
    "    value = sign.lower()\n",
    "    if len(value.split(\" \")) == 1:\n",
    "        return value\n",
    "    elif 'aquarius' in value:\n",
    "        return 'aquarius'\n",
    "    elif 'aries' in value:\n",
    "        return 'aries'\n",
    "    elif 'cancer' in value:\n",
    "        return 'cancer'\n",
    "    elif 'capricorn' in value:\n",
    "        return 'capricorn'\n",
    "    elif 'gemini' in value:\n",
    "        return 'gemini'\n",
    "    elif 'leo' in value:\n",
    "        return 'leo'\n",
    "    elif 'libra' in value:\n",
    "        return 'libra'\n",
    "    elif 'pisces' in value:\n",
    "        return 'pisces'\n",
    "    elif 'sagittarius' in value:\n",
    "        return 'sagittarius'\n",
    "    elif 'scorpio' in value:\n",
    "        return 'scorpio'\n",
    "    elif 'taurus' in value:\n",
    "        return 'taurus'\n",
    "    elif 'virgo' in value:\n",
    "        return 'virgo'\n",
    "    elif value != \"sign kosong\" :\n",
    "        return 'no sign status'\n",
    "    else:\n",
    "        pass\n",
    "\n",
    "def get_sign_opinion(religion):\n",
    "    value = religion.lower()\n",
    "    if 'and it matters a lot' in value:\n",
    "        return 'and it matters a lot'\n",
    "    elif \"and it's fun to think about\" in value:\n",
    "        return \"and it's fun to think about\"\n",
    "    elif \"but it doesn't matter\" in value:\n",
    "        return \"but it doesn't matter\"\n",
    "    elif value != \"sign kosong\":\n",
    "        return 'no sign opinion'\n",
    "    else:\n",
    "        pass\n",
    "\n",
    "df['sign status'] = df['sign'].apply(get_sign_status)\n",
    "df['sign opinion'] = df['sign'].apply(get_sign_opinion)\n",
    "df = df.drop('sign', axis=1)\n",
    "\n",
    "\n",
    "df_test['sign status'] = df_test['sign'].apply(get_sign_status)\n",
    "df_test['sign opinion'] = df_test['sign'].apply(get_sign_opinion)\n",
    "df_test = df_test.drop('sign', axis=1)"
   ]
  },
  {
   "cell_type": "markdown",
   "metadata": {},
   "source": [
    "# Process Kolom Speaks"
   ]
  },
  {
   "cell_type": "code",
   "execution_count": 71,
   "metadata": {
    "metadata": {}
   },
   "outputs": [],
   "source": [
    "# Ubah kolom 'speaks' menjadi one-hot encoder\n",
    "one_hot_encoded = df['speaks'].str.get_dummies(sep=', ')\n",
    "one_hot_encoded = one_hot_encoded.add_prefix('speaks_')\n",
    "\n",
    "# Gabungkan one-hot encoder dengan DataFrame awal berdasarkan indeks\n",
    "df = pd.concat([df, one_hot_encoded], axis=1)\n",
    "df = df.drop('speaks', axis=1)\n",
    "\n",
    "\n",
    "\n",
    "# Ubah kolom 'speaks' menjadi one-hot encoder\n",
    "one_hot_encoded = df_test['speaks'].str.get_dummies(sep=', ')\n",
    "one_hot_encoded = one_hot_encoded.add_prefix('speaks_')\n",
    "\n",
    "# Gabungkan one-hot encoder dengan DataFrame awal berdasarkan indeks\n",
    "df_test = pd.concat([df_test, one_hot_encoded], axis=1)\n",
    "df_test = df_test.drop('speaks', axis=1)"
   ]
  },
  {
   "cell_type": "markdown",
   "metadata": {},
   "source": [
    "# Process Kolom Age"
   ]
  },
  {
   "cell_type": "code",
   "execution_count": 72,
   "metadata": {
    "metadata": {}
   },
   "outputs": [],
   "source": [
    "# # Tentukan batas bin dengan rentang yang sama\n",
    "# min_value = min(df['age'].min(), df_test['age'].min())\n",
    "# max_value = max(df['age'].max(), df_test['age'].max())\n",
    "# bins = pd.cut(df['age'], bins=10, right=True, retbins=True)[1]\n",
    "\n",
    "# # Binning kolom 'age' dengan batas bin yang sama di kedua dataset\n",
    "# df['age bins'] = pd.cut(df['age'], bins=bins, right=True)\n",
    "# df['age bins'] = df['age bins'].astype(str)\n",
    "# df = df.drop('age', axis=1)\n",
    "\n",
    "# df_test['age bins'] = pd.cut(df_test['age'], bins=bins, right=True)\n",
    "# df_test['age bins'] = df_test['age bins'].astype(str)\n",
    "# df_test = df_test.drop('age', axis=1)\n"
   ]
  },
  {
   "cell_type": "markdown",
   "metadata": {},
   "source": [
    "# Process Kolom Height"
   ]
  },
  {
   "cell_type": "code",
   "execution_count": 73,
   "metadata": {
    "metadata": {}
   },
   "outputs": [],
   "source": [
    "# # Tentukan batas bin dengan rentang yang sama\n",
    "# min_value = min(df['height'].min(), df_test['height'].min())\n",
    "# max_value = max(df['height'].max(), df_test['height'].max())\n",
    "# bins = pd.cut(df['height'], bins=10, right=True, retbins=True)[1]\n",
    "\n",
    "# # Binning kolom 'height' dengan batas bin yang sama di kedua dataset\n",
    "# df['height bins'] = pd.cut(df['height'], bins=bins, right=True)\n",
    "# df['height bins'] = df['height bins'].astype(str)\n",
    "# df = df.drop('height', axis=1)\n",
    "\n",
    "# df_test['height bins'] = pd.cut(df_test['height'], bins=bins, right=True)\n",
    "# df_test['height bins'] = df_test['height bins'].astype(str)\n",
    "# df_test = df_test.drop('height', axis=1)\n"
   ]
  },
  {
   "cell_type": "markdown",
   "metadata": {},
   "source": [
    "# Process Kolom Income"
   ]
  },
  {
   "cell_type": "code",
   "execution_count": 74,
   "metadata": {
    "metadata": {}
   },
   "outputs": [],
   "source": [
    "# # Tentukan batas bin dengan rentang yang sama\n",
    "# min_value = min(df['income'].min(), df_test['income'].min())\n",
    "# max_value = max(df['income'].max(), df_test['income'].max())\n",
    "# bins = pd.cut(df['income'], bins=10, right=True, retbins=True)[1]\n",
    "\n",
    "# # Binning kolom 'income' dengan batas bin yang sama di kedua dataset\n",
    "# df['income bins'] = pd.cut(df['income'], bins=bins, right=True)\n",
    "# df['income bins'] = df['income bins'].astype(str)\n",
    "# df = df.drop('income', axis=1)\n",
    "\n",
    "# df_test['income bins'] = pd.cut(df_test['income'], bins=bins, right=True)\n",
    "# df_test['income bins'] = df_test['income bins'].astype(str)\n",
    "# df_test = df_test.drop('income', axis=1)\n"
   ]
  },
  {
   "cell_type": "markdown",
   "metadata": {},
   "source": [
    "# ONE HOT ENCODING"
   ]
  },
  {
   "cell_type": "code",
   "execution_count": 75,
   "metadata": {
    "metadata": {}
   },
   "outputs": [],
   "source": [
    "# from sklearn.preprocessing import OneHotEncoder\n",
    "\n",
    "\n",
    "# #Extract categorical columns from the dataframe\n",
    "# #Here we extract the columns with object datatype as they are the categorical columns\n",
    "# categorical_columns = df.select_dtypes(include=['object']).columns.tolist()\n",
    "\n",
    "# #Initialize OneHotEncoder\n",
    "# encoder = OneHotEncoder(sparse_output=False)\n",
    "\n",
    "# # Apply one-hot encoding to the categorical columns\n",
    "# one_hot_encoded = encoder.fit_transform(df[categorical_columns])\n",
    "\n",
    "# #Create a DataFrame with the one-hot encoded columns\n",
    "# #We use get_feature_names_out() to get the column names for the encoded data\n",
    "# one_hot_df = pd.DataFrame(one_hot_encoded, columns=encoder.get_feature_names_out(categorical_columns))\n",
    "\n",
    "# # Concatenate the one-hot encoded dataframe with the original dataframe\n",
    "# df_encoded = pd.concat([df, one_hot_df], axis=1)\n",
    "\n",
    "# # Drop the original categorical columns\n",
    "# df_encoded = df_encoded.drop(categorical_columns, axis=1)\n",
    "\n",
    "# # Display the resulting dataframe\n",
    "# df_encoded"
   ]
  },
  {
   "cell_type": "markdown",
   "metadata": {},
   "source": [
    "# Sklearn"
   ]
  },
  {
   "cell_type": "code",
   "execution_count": 76,
   "metadata": {
    "metadata": {}
   },
   "outputs": [],
   "source": [
    "# import pandas as pd\n",
    "# from sklearn.tree import DecisionTreeClassifier\n",
    "# from sklearn.model_selection import train_test_split\n",
    "# from sklearn.metrics import accuracy_score\n",
    "\n",
    "# # Memisahkan fitur dan label\n",
    "# X = df.drop(columns=['fit_body', 'id'])  # Menghilangkan kolom 'fit_body' dan 'id' dari fitur\n",
    "# y = df['fit_body']  # Menggunakan 'fit_body' sebagai label\n",
    "\n",
    "# # Melakukan one-hot encoding pada fitur-fitur kategorikal\n",
    "# X_encoded = pd.get_dummies(X)\n",
    "# X_encoded"
   ]
  },
  {
   "cell_type": "code",
   "execution_count": 77,
   "metadata": {
    "metadata": {}
   },
   "outputs": [],
   "source": [
    "# import pandas as pd\n",
    "# from sklearn.tree import DecisionTreeClassifier\n",
    "# from sklearn.model_selection import train_test_split\n",
    "# from sklearn.metrics import accuracy_score\n",
    "\n",
    "# # Memisahkan fitur dan label\n",
    "# X = df.drop(columns=['fit_body', 'id'])  # Menghilangkan kolom 'fit_body' dan 'id' dari fitur\n",
    "# y = df['fit_body']  # Menggunakan 'fit_body' sebagai label\n",
    "\n",
    "# # Melakukan one-hot encoding pada fitur-fitur kategorikal\n",
    "# X_encoded = pd.get_dummies(X)\n",
    "\n",
    "# # Membagi data menjadi data latih dan data uji\n",
    "# X_train, X_test, y_train, y_test = train_test_split(X_encoded, y, test_size=0.1)\n",
    "\n",
    "# # Membuat model Decision Tree\n",
    "# tree = DecisionTreeClassifier(random_state=0)\n",
    "# tree.fit(X_train, y_train)\n",
    "\n",
    "# # Memprediksi pada data latih dan data uji\n",
    "# train_pred = tree.predict(X_train)\n",
    "# test_pred = tree.predict(X_test)\n",
    "\n",
    "# # Menghitung akurasi\n",
    "# train_accuracy = accuracy_score(y_train, train_pred)\n",
    "# test_accuracy = accuracy_score(y_test, test_pred)\n",
    "\n",
    "# print(\"Accuracy on training set: {:.3f}\".format(train_accuracy))\n",
    "# print(\"Accuracy on test set: {:.3f}\".format(test_accuracy))\n"
   ]
  },
  {
   "cell_type": "code",
   "execution_count": 78,
   "metadata": {
    "metadata": {}
   },
   "outputs": [],
   "source": [
    "# import pandas as pd\n",
    "# from sklearn.ensemble import RandomForestClassifier\n",
    "# from sklearn.model_selection import train_test_split\n",
    "# from sklearn.metrics import accuracy_score\n",
    "\n",
    "# # Memisahkan fitur dan label\n",
    "# X = df.drop(columns=['fit_body', 'id'])  # Menghilangkan kolom 'fit_body' dan 'id' dari fitur\n",
    "# y = df['fit_body']  # Menggunakan 'fit_body' sebagai label\n",
    "\n",
    "# # Melakukan one-hot encoding pada fitur-fitur kategorikal\n",
    "# X_encoded = pd.get_dummies(X)\n",
    "\n",
    "# # Membagi data menjadi data latih dan data uji\n",
    "# X_train, X_test, y_train, y_test = train_test_split(X_encoded, y, test_size=0.2)\n",
    "\n",
    "# # Membuat model Random Forest\n",
    "# forest = RandomForestClassifier(random_state=0)\n",
    "# forest.fit(X_train, y_train)\n",
    "\n",
    "# # Memprediksi pada data latih dan data uji\n",
    "# train_pred = forest.predict(X_train)\n",
    "# test_pred = forest.predict(X_test)\n",
    "\n",
    "# # Menghitung akurasi\n",
    "# train_accuracy = accuracy_score(y_train, train_pred)\n",
    "# test_accuracy = accuracy_score(y_test, test_pred)\n",
    "\n",
    "# print(\"Accuracy on training set: {:.3f}\".format(train_accuracy))\n",
    "# print(\"Accuracy on test set: {:.3f}\".format(test_accuracy))"
   ]
  },
  {
   "cell_type": "code",
   "execution_count": 79,
   "metadata": {
    "metadata": {}
   },
   "outputs": [],
   "source": [
    "# import pandas as pd\n",
    "# from sklearn.ensemble import GradientBoostingClassifier\n",
    "# from sklearn.model_selection import train_test_split\n",
    "# from sklearn.metrics import accuracy_score\n",
    "\n",
    "# # Memisahkan fitur dan label\n",
    "# X = df.drop(columns=['fit_body', 'id'])  # Menghilangkan kolom 'fit_body' dan 'id' dari fitur\n",
    "# y = df['fit_body']  # Menggunakan 'fit_body' sebagai label\n",
    "\n",
    "# # Melakukan one-hot encoding pada fitur-fitur kategorikal\n",
    "# X_encoded = pd.get_dummies(X)\n",
    "\n",
    "# # Membagi data menjadi data latih dan data uji\n",
    "# X_train, X_test, y_train, y_test = train_test_split(X_encoded, y, test_size=0.2)\n",
    "\n",
    "# # Membuat model Gradient Boosting\n",
    "# gradient_boosting = GradientBoostingClassifier(random_state=0)\n",
    "# gradient_boosting.fit(X_train, y_train)\n",
    "\n",
    "# # Memprediksi pada data latih dan data uji\n",
    "# train_pred = gradient_boosting.predict(X_train)\n",
    "# test_pred = gradient_boosting.predict(X_test)\n",
    "\n",
    "# # Menghitung akurasi\n",
    "# train_accuracy = accuracy_score(y_train, train_pred)\n",
    "# test_accuracy = accuracy_score(y_test, test_pred)\n",
    "\n",
    "# print(\"Accuracy on training set: {:.3f}\".format(train_accuracy))\n",
    "# print(\"Accuracy on test set: {:.3f}\".format(test_accuracy))\n"
   ]
  },
  {
   "cell_type": "code",
   "execution_count": 80,
   "metadata": {
    "metadata": {}
   },
   "outputs": [],
   "source": [
    "# import pandas as pd\n",
    "# from sklearn.tree import DecisionTreeClassifier\n",
    "# from sklearn.model_selection import train_test_split\n",
    "# from sklearn.metrics import accuracy_score\n",
    "\n",
    "# # Memisahkan fitur dan label\n",
    "# X = df.drop(columns=['fit_body', 'id'])  # Menghilangkan kolom 'fit_body' dan 'id' dari fitur\n",
    "# y = df['fit_body']  # Menggunakan 'fit_body' sebagai label\n",
    "\n",
    "# # Melakukan one-hot encoding pada fitur-fitur kategorikal\n",
    "# X_encoded = pd.get_dummies(X)\n",
    "# X_encoded"
   ]
  },
  {
   "cell_type": "code",
   "execution_count": 81,
   "metadata": {
    "metadata": {}
   },
   "outputs": [],
   "source": [
    "# int64_cols = df.select_dtypes(include=['int64']).columns\n",
    "# df[int64_cols] = df[int64_cols].astype(bool)"
   ]
  },
  {
   "cell_type": "markdown",
   "metadata": {},
   "source": [
    "# Gradient Boosting Machine"
   ]
  },
  {
   "cell_type": "code",
   "execution_count": 82,
   "metadata": {
    "metadata": {}
   },
   "outputs": [],
   "source": [
    "df_test = df_test.reindex(columns=df.columns, fill_value=0)\n",
    "df = df.reindex(columns=df_test.columns, fill_value=0)"
   ]
  },
  {
   "cell_type": "code",
   "execution_count": 83,
   "metadata": {
    "metadata": {}
   },
   "outputs": [
    {
     "name": "stdout",
     "output_type": "stream",
     "text": [
      "Accuracy on training set: 0.619\n",
      "Accuracy on test set: 0.607\n"
     ]
    }
   ],
   "source": [
    "import pandas as pd\n",
    "from sklearn.ensemble import GradientBoostingClassifier\n",
    "from sklearn.model_selection import train_test_split\n",
    "from sklearn.metrics import accuracy_score\n",
    "\n",
    "# Memisahkan fitur dan label\n",
    "X = df.drop(columns=['fit_body', 'id'])  # Menghilangkan kolom 'fit_body' dan 'id' dari fitur\n",
    "y = df['fit_body']  # Menggunakan 'fit_body' sebagai label\n",
    "\n",
    "# Melakukan one-hot encoding pada fitur-fitur kategorikal\n",
    "X_encoded = pd.get_dummies(X)\n",
    "\n",
    "# Membagi data menjadi data latih dan data uji\n",
    "X_train, X_test, y_train, y_test = train_test_split(X_encoded, y, test_size=0.2)\n",
    "\n",
    "# Membuat model Gradient Boosting\n",
    "gradient_boosting = GradientBoostingClassifier(random_state=0)\n",
    "gradient_boosting.fit(X_train, y_train)\n",
    "\n",
    "# Memprediksi pada data latih dan data uji\n",
    "train_pred = gradient_boosting.predict(X_train)\n",
    "test_pred = gradient_boosting.predict(X_test)\n",
    "\n",
    "# Menghitung akurasi\n",
    "train_accuracy = accuracy_score(y_train, train_pred)\n",
    "test_accuracy = accuracy_score(y_test, test_pred)\n",
    "\n",
    "print(\"Accuracy on training set: {:.3f}\".format(train_accuracy))\n",
    "print(\"Accuracy on test set: {:.3f}\".format(test_accuracy))\n"
   ]
  },
  {
   "cell_type": "code",
   "execution_count": 84,
   "metadata": {
    "metadata": {}
   },
   "outputs": [],
   "source": [
    "df_test_encoded = pd.get_dummies(df_test.drop(columns=['fit_body', 'id']))  # Lakukan one-hot encoding jika diperlukan\n",
    "train_pred_df = gradient_boosting.predict(df_test_encoded)"
   ]
  },
  {
   "cell_type": "code",
   "execution_count": 85,
   "metadata": {
    "metadata": {}
   },
   "outputs": [
    {
     "data": {
      "text/plain": [
       "array(['yes', 'no', 'yes', ..., 'yes', 'yes', 'no'], dtype=object)"
      ]
     },
     "execution_count": 85,
     "metadata": {},
     "output_type": "execute_result"
    }
   ],
   "source": [
    "train_pred_df"
   ]
  },
  {
   "cell_type": "code",
   "execution_count": 86,
   "metadata": {
    "metadata": {}
   },
   "outputs": [
    {
     "data": {
      "text/html": [
       "<div>\n",
       "<style scoped>\n",
       "    .dataframe tbody tr th:only-of-type {\n",
       "        vertical-align: middle;\n",
       "    }\n",
       "\n",
       "    .dataframe tbody tr th {\n",
       "        vertical-align: top;\n",
       "    }\n",
       "\n",
       "    .dataframe thead th {\n",
       "        text-align: right;\n",
       "    }\n",
       "</style>\n",
       "<table border=\"1\" class=\"dataframe\">\n",
       "  <thead>\n",
       "    <tr style=\"text-align: right;\">\n",
       "      <th></th>\n",
       "      <th>id</th>\n",
       "      <th>fit_body</th>\n",
       "    </tr>\n",
       "  </thead>\n",
       "  <tbody>\n",
       "    <tr>\n",
       "      <th>0</th>\n",
       "      <td>30968</td>\n",
       "      <td>yes</td>\n",
       "    </tr>\n",
       "    <tr>\n",
       "      <th>1</th>\n",
       "      <td>36173</td>\n",
       "      <td>no</td>\n",
       "    </tr>\n",
       "    <tr>\n",
       "      <th>2</th>\n",
       "      <td>32466</td>\n",
       "      <td>yes</td>\n",
       "    </tr>\n",
       "    <tr>\n",
       "      <th>3</th>\n",
       "      <td>27038</td>\n",
       "      <td>yes</td>\n",
       "    </tr>\n",
       "    <tr>\n",
       "      <th>4</th>\n",
       "      <td>17610</td>\n",
       "      <td>yes</td>\n",
       "    </tr>\n",
       "    <tr>\n",
       "      <th>...</th>\n",
       "      <td>...</td>\n",
       "      <td>...</td>\n",
       "    </tr>\n",
       "    <tr>\n",
       "      <th>13608</th>\n",
       "      <td>20510</td>\n",
       "      <td>no</td>\n",
       "    </tr>\n",
       "    <tr>\n",
       "      <th>13609</th>\n",
       "      <td>54432</td>\n",
       "      <td>yes</td>\n",
       "    </tr>\n",
       "    <tr>\n",
       "      <th>13610</th>\n",
       "      <td>49664</td>\n",
       "      <td>yes</td>\n",
       "    </tr>\n",
       "    <tr>\n",
       "      <th>13611</th>\n",
       "      <td>43797</td>\n",
       "      <td>yes</td>\n",
       "    </tr>\n",
       "    <tr>\n",
       "      <th>13612</th>\n",
       "      <td>15637</td>\n",
       "      <td>no</td>\n",
       "    </tr>\n",
       "  </tbody>\n",
       "</table>\n",
       "<p>13613 rows × 2 columns</p>\n",
       "</div>"
      ],
      "text/plain": [
       "          id fit_body\n",
       "0      30968      yes\n",
       "1      36173       no\n",
       "2      32466      yes\n",
       "3      27038      yes\n",
       "4      17610      yes\n",
       "...      ...      ...\n",
       "13608  20510       no\n",
       "13609  54432      yes\n",
       "13610  49664      yes\n",
       "13611  43797      yes\n",
       "13612  15637       no\n",
       "\n",
       "[13613 rows x 2 columns]"
      ]
     },
     "execution_count": 86,
     "metadata": {},
     "output_type": "execute_result"
    }
   ],
   "source": [
    "df_test[\"fit_body\"] = train_pred_df\n",
    "df_subset = df_test[['id', 'fit_body']]\n",
    "df_subset"
   ]
  },
  {
   "cell_type": "code",
   "execution_count": 87,
   "metadata": {
    "metadata": {}
   },
   "outputs": [],
   "source": [
    "df_subset.to_csv(\"hasilml.csv\", index=False)"
   ]
  }
 ],
 "metadata": {
  "kernelspec": {
   "display_name": "Python 3",
   "language": "python",
   "name": "python3"
  },
  "language_info": {
   "codemirror_mode": {
    "name": "ipython",
    "version": 3
   },
   "file_extension": ".py",
   "mimetype": "text/x-python",
   "name": "python",
   "nbconvert_exporter": "python",
   "pygments_lexer": "ipython3",
   "version": "3.11.9"
  }
 },
 "nbformat": 4,
 "nbformat_minor": 2
}
