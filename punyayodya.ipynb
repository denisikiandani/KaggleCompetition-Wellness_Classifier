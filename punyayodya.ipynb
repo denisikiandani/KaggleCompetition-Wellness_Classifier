{
 "cells": [
  {
   "cell_type": "code",
   "id": "cc2386df-7d0e-4477-b2e2-78036a0d4475",
   "metadata": {
    "ExecuteTime": {
     "end_time": "2024-05-15T18:11:46.354973Z",
     "start_time": "2024-05-15T18:11:46.351417Z"
    }
   },
   "source": [
    "import pandas as pd\n",
    "import numpy as np\n",
    "import matplotlib.pyplot as plt\n",
    "import seaborn as sns"
   ],
   "outputs": [],
   "execution_count": 11
  },
  {
   "cell_type": "code",
   "id": "7ca550f5-4fc4-4bc4-a9ba-271e80019004",
   "metadata": {
    "ExecuteTime": {
     "end_time": "2024-05-15T18:11:46.591042Z",
     "start_time": "2024-05-15T18:11:46.543762Z"
    }
   },
   "source": [
    "dataset_train = pd.read_csv('dataset/train.csv')\n",
    "dataset_test = pd.read_csv('dataset/test.csv')"
   ],
   "outputs": [],
   "execution_count": 12
  },
  {
   "cell_type": "code",
   "id": "1fe14b23-a5d7-4081-98e3-88f59daf9638",
   "metadata": {
    "ExecuteTime": {
     "end_time": "2024-05-15T18:11:46.838303Z",
     "start_time": "2024-05-15T18:11:46.831063Z"
    }
   },
   "source": [
    "df_train = dataset_train.copy()\n",
    "df_test = dataset_test.copy()"
   ],
   "outputs": [],
   "execution_count": 13
  },
  {
   "cell_type": "code",
   "execution_count": 95,
   "id": "8c8a1031-b54b-4e22-8d22-b8c1f625252e",
   "metadata": {},
   "outputs": [
    {
     "data": {
      "text/html": [
       "<div>\n",
       "<style scoped>\n",
       "    .dataframe tbody tr th:only-of-type {\n",
       "        vertical-align: middle;\n",
       "    }\n",
       "\n",
       "    .dataframe tbody tr th {\n",
       "        vertical-align: top;\n",
       "    }\n",
       "\n",
       "    .dataframe thead th {\n",
       "        text-align: right;\n",
       "    }\n",
       "</style>\n",
       "<table border=\"1\" class=\"dataframe\">\n",
       "  <thead>\n",
       "    <tr style=\"text-align: right;\">\n",
       "      <th></th>\n",
       "      <th>id</th>\n",
       "      <th>umur</th>\n",
       "      <th>indeks_masa_badan</th>\n",
       "      <th>jenis_makanan</th>\n",
       "      <th>penyakit_khusus</th>\n",
       "      <th>penyakit_keturunan</th>\n",
       "      <th>lokasi_tinggal</th>\n",
       "      <th>mengatur_pola_makan</th>\n",
       "      <th>olahraga</th>\n",
       "      <th>jam_tidur_teratur</th>\n",
       "      <th>merokok</th>\n",
       "      <th>minum_alkohol</th>\n",
       "      <th>mengkonsumsi_suplemen</th>\n",
       "      <th>memperhatikan_kesehatan_mental</th>\n",
       "      <th>bersosialisasi</th>\n",
       "      <th>jumlah_sakit_setahun_terakhir</th>\n",
       "      <th>sehat</th>\n",
       "    </tr>\n",
       "  </thead>\n",
       "  <tbody>\n",
       "    <tr>\n",
       "      <th>0</th>\n",
       "      <td>13777</td>\n",
       "      <td>51</td>\n",
       "      <td>29.45</td>\n",
       "      <td>jenis4</td>\n",
       "      <td>41</td>\n",
       "      <td>tidak ada</td>\n",
       "      <td>perkotaan</td>\n",
       "      <td>ya</td>\n",
       "      <td>tidak</td>\n",
       "      <td>ya</td>\n",
       "      <td>ya</td>\n",
       "      <td>tidak</td>\n",
       "      <td>tidak</td>\n",
       "      <td>tidak</td>\n",
       "      <td>tidak</td>\n",
       "      <td>2.0</td>\n",
       "      <td>tidak</td>\n",
       "    </tr>\n",
       "    <tr>\n",
       "      <th>1</th>\n",
       "      <td>17804</td>\n",
       "      <td>18</td>\n",
       "      <td>22.22</td>\n",
       "      <td>jenis2 jenis5</td>\n",
       "      <td>36</td>\n",
       "      <td>tidak ada</td>\n",
       "      <td>pedesaan</td>\n",
       "      <td>ya</td>\n",
       "      <td>tidak</td>\n",
       "      <td>tidak</td>\n",
       "      <td>tidak</td>\n",
       "      <td>tidak</td>\n",
       "      <td>tidak</td>\n",
       "      <td>tidak</td>\n",
       "      <td>ya</td>\n",
       "      <td>2.0</td>\n",
       "      <td>ya</td>\n",
       "    </tr>\n",
       "    <tr>\n",
       "      <th>2</th>\n",
       "      <td>2476</td>\n",
       "      <td>55</td>\n",
       "      <td>23.43</td>\n",
       "      <td>jenis3 jenis5</td>\n",
       "      <td>12</td>\n",
       "      <td>tidak ada</td>\n",
       "      <td>perkotaan</td>\n",
       "      <td>ya</td>\n",
       "      <td>ya</td>\n",
       "      <td>ya</td>\n",
       "      <td>tidak</td>\n",
       "      <td>ya</td>\n",
       "      <td>tidak</td>\n",
       "      <td>tidak</td>\n",
       "      <td>tidak</td>\n",
       "      <td>4.0</td>\n",
       "      <td>ya</td>\n",
       "    </tr>\n",
       "    <tr>\n",
       "      <th>3</th>\n",
       "      <td>18360</td>\n",
       "      <td>30</td>\n",
       "      <td>21.88</td>\n",
       "      <td>jenis3</td>\n",
       "      <td>40</td>\n",
       "      <td>tidak ada</td>\n",
       "      <td>perkotaan</td>\n",
       "      <td>ya</td>\n",
       "      <td>tidak</td>\n",
       "      <td>tidak</td>\n",
       "      <td>tidak</td>\n",
       "      <td>tidak</td>\n",
       "      <td>tidak</td>\n",
       "      <td>tidak</td>\n",
       "      <td>tidak</td>\n",
       "      <td>1.0</td>\n",
       "      <td>ya</td>\n",
       "    </tr>\n",
       "    <tr>\n",
       "      <th>4</th>\n",
       "      <td>17530</td>\n",
       "      <td>35</td>\n",
       "      <td>17.25</td>\n",
       "      <td>jenis6</td>\n",
       "      <td>33</td>\n",
       "      <td>tidak ada</td>\n",
       "      <td>pedesaan</td>\n",
       "      <td>ya</td>\n",
       "      <td>tidak</td>\n",
       "      <td>tidak</td>\n",
       "      <td>ya</td>\n",
       "      <td>tidak</td>\n",
       "      <td>ya</td>\n",
       "      <td>tidak</td>\n",
       "      <td>ya</td>\n",
       "      <td>3.0</td>\n",
       "      <td>tidak</td>\n",
       "    </tr>\n",
       "    <tr>\n",
       "      <th>...</th>\n",
       "      <td>...</td>\n",
       "      <td>...</td>\n",
       "      <td>...</td>\n",
       "      <td>...</td>\n",
       "      <td>...</td>\n",
       "      <td>...</td>\n",
       "      <td>...</td>\n",
       "      <td>...</td>\n",
       "      <td>...</td>\n",
       "      <td>...</td>\n",
       "      <td>...</td>\n",
       "      <td>...</td>\n",
       "      <td>...</td>\n",
       "      <td>...</td>\n",
       "      <td>...</td>\n",
       "      <td>...</td>\n",
       "      <td>...</td>\n",
       "    </tr>\n",
       "    <tr>\n",
       "      <th>19944</th>\n",
       "      <td>4821</td>\n",
       "      <td>26</td>\n",
       "      <td>21.37</td>\n",
       "      <td>jenis6</td>\n",
       "      <td>43</td>\n",
       "      <td>tidak ada</td>\n",
       "      <td>perkotaan</td>\n",
       "      <td>ya</td>\n",
       "      <td>tidak</td>\n",
       "      <td>tidak</td>\n",
       "      <td>tidak</td>\n",
       "      <td>tidak</td>\n",
       "      <td>tidak</td>\n",
       "      <td>tidak</td>\n",
       "      <td>tidak</td>\n",
       "      <td>1.0</td>\n",
       "      <td>ya</td>\n",
       "    </tr>\n",
       "    <tr>\n",
       "      <th>19945</th>\n",
       "      <td>21429</td>\n",
       "      <td>35</td>\n",
       "      <td>22.05</td>\n",
       "      <td>jenis5</td>\n",
       "      <td>28</td>\n",
       "      <td>tidak ada</td>\n",
       "      <td>perkotaan</td>\n",
       "      <td>ya</td>\n",
       "      <td>tidak</td>\n",
       "      <td>tidak</td>\n",
       "      <td>ya</td>\n",
       "      <td>tidak</td>\n",
       "      <td>tidak</td>\n",
       "      <td>tidak</td>\n",
       "      <td>ya</td>\n",
       "      <td>2.0</td>\n",
       "      <td>tidak</td>\n",
       "    </tr>\n",
       "    <tr>\n",
       "      <th>19946</th>\n",
       "      <td>18601</td>\n",
       "      <td>22</td>\n",
       "      <td>21.44</td>\n",
       "      <td>jenis6</td>\n",
       "      <td>49</td>\n",
       "      <td>tidak ada</td>\n",
       "      <td>pedesaan</td>\n",
       "      <td>ya</td>\n",
       "      <td>ya</td>\n",
       "      <td>tidak</td>\n",
       "      <td>ya</td>\n",
       "      <td>tidak</td>\n",
       "      <td>tidak</td>\n",
       "      <td>tidak</td>\n",
       "      <td>tidak</td>\n",
       "      <td>2.0</td>\n",
       "      <td>ya</td>\n",
       "    </tr>\n",
       "    <tr>\n",
       "      <th>19947</th>\n",
       "      <td>2067</td>\n",
       "      <td>13</td>\n",
       "      <td>21.66</td>\n",
       "      <td>jenis2 jenis3</td>\n",
       "      <td>12</td>\n",
       "      <td>tidak ada</td>\n",
       "      <td>pedesaan</td>\n",
       "      <td>ya</td>\n",
       "      <td>tidak</td>\n",
       "      <td>tidak</td>\n",
       "      <td>ya</td>\n",
       "      <td>tidak</td>\n",
       "      <td>tidak</td>\n",
       "      <td>tidak</td>\n",
       "      <td>tidak</td>\n",
       "      <td>1.0</td>\n",
       "      <td>ya</td>\n",
       "    </tr>\n",
       "    <tr>\n",
       "      <th>19948</th>\n",
       "      <td>13485</td>\n",
       "      <td>40</td>\n",
       "      <td>26.28</td>\n",
       "      <td>jenis5</td>\n",
       "      <td>8</td>\n",
       "      <td>tidak ada</td>\n",
       "      <td>pedesaan</td>\n",
       "      <td>ya</td>\n",
       "      <td>tidak</td>\n",
       "      <td>ya</td>\n",
       "      <td>tidak</td>\n",
       "      <td>tidak</td>\n",
       "      <td>tidak</td>\n",
       "      <td>tidak</td>\n",
       "      <td>tidak</td>\n",
       "      <td>2.0</td>\n",
       "      <td>ya</td>\n",
       "    </tr>\n",
       "  </tbody>\n",
       "</table>\n",
       "<p>19949 rows × 17 columns</p>\n",
       "</div>"
      ],
      "text/plain": [
       "          id  umur  indeks_masa_badan   jenis_makanan  penyakit_khusus  \\\n",
       "0      13777    51              29.45         jenis4                41   \n",
       "1      17804    18              22.22  jenis2 jenis5                36   \n",
       "2       2476    55              23.43  jenis3 jenis5                12   \n",
       "3      18360    30              21.88         jenis3                40   \n",
       "4      17530    35              17.25          jenis6               33   \n",
       "...      ...   ...                ...             ...              ...   \n",
       "19944   4821    26              21.37          jenis6               43   \n",
       "19945  21429    35              22.05         jenis5                28   \n",
       "19946  18601    22              21.44          jenis6               49   \n",
       "19947   2067    13              21.66  jenis2 jenis3                12   \n",
       "19948  13485    40              26.28         jenis5                 8   \n",
       "\n",
       "      penyakit_keturunan lokasi_tinggal mengatur_pola_makan olahraga  \\\n",
       "0              tidak ada      perkotaan                  ya    tidak   \n",
       "1              tidak ada       pedesaan                  ya    tidak   \n",
       "2              tidak ada      perkotaan                  ya       ya   \n",
       "3              tidak ada      perkotaan                  ya    tidak   \n",
       "4              tidak ada       pedesaan                  ya    tidak   \n",
       "...                  ...            ...                 ...      ...   \n",
       "19944          tidak ada      perkotaan                  ya    tidak   \n",
       "19945          tidak ada      perkotaan                  ya    tidak   \n",
       "19946          tidak ada       pedesaan                  ya       ya   \n",
       "19947          tidak ada       pedesaan                  ya    tidak   \n",
       "19948          tidak ada       pedesaan                  ya    tidak   \n",
       "\n",
       "      jam_tidur_teratur merokok minum_alkohol mengkonsumsi_suplemen  \\\n",
       "0                    ya      ya         tidak                 tidak   \n",
       "1                 tidak   tidak         tidak                 tidak   \n",
       "2                    ya   tidak            ya                 tidak   \n",
       "3                 tidak   tidak         tidak                 tidak   \n",
       "4                 tidak      ya         tidak                    ya   \n",
       "...                 ...     ...           ...                   ...   \n",
       "19944             tidak   tidak         tidak                 tidak   \n",
       "19945             tidak      ya         tidak                 tidak   \n",
       "19946             tidak      ya         tidak                 tidak   \n",
       "19947             tidak      ya         tidak                 tidak   \n",
       "19948                ya   tidak         tidak                 tidak   \n",
       "\n",
       "      memperhatikan_kesehatan_mental bersosialisasi  \\\n",
       "0                              tidak          tidak   \n",
       "1                              tidak             ya   \n",
       "2                              tidak          tidak   \n",
       "3                              tidak          tidak   \n",
       "4                              tidak             ya   \n",
       "...                              ...            ...   \n",
       "19944                          tidak          tidak   \n",
       "19945                          tidak             ya   \n",
       "19946                          tidak          tidak   \n",
       "19947                          tidak          tidak   \n",
       "19948                          tidak          tidak   \n",
       "\n",
       "       jumlah_sakit_setahun_terakhir  sehat  \n",
       "0                                2.0  tidak  \n",
       "1                                2.0     ya  \n",
       "2                                4.0     ya  \n",
       "3                                1.0     ya  \n",
       "4                                3.0  tidak  \n",
       "...                              ...    ...  \n",
       "19944                            1.0     ya  \n",
       "19945                            2.0  tidak  \n",
       "19946                            2.0     ya  \n",
       "19947                            1.0     ya  \n",
       "19948                            2.0     ya  \n",
       "\n",
       "[19949 rows x 17 columns]"
      ]
     },
     "execution_count": 95,
     "metadata": {},
     "output_type": "execute_result"
    }
   ],
   "source": [
    "df_train"
   ]
  },
  {
   "cell_type": "code",
   "execution_count": 96,
   "id": "7ceccc73-8bcc-473f-922a-5aeaf8db7002",
   "metadata": {},
   "outputs": [
    {
     "data": {
      "text/html": [
       "<div>\n",
       "<style scoped>\n",
       "    .dataframe tbody tr th:only-of-type {\n",
       "        vertical-align: middle;\n",
       "    }\n",
       "\n",
       "    .dataframe tbody tr th {\n",
       "        vertical-align: top;\n",
       "    }\n",
       "\n",
       "    .dataframe thead th {\n",
       "        text-align: right;\n",
       "    }\n",
       "</style>\n",
       "<table border=\"1\" class=\"dataframe\">\n",
       "  <thead>\n",
       "    <tr style=\"text-align: right;\">\n",
       "      <th></th>\n",
       "      <th>id</th>\n",
       "      <th>umur</th>\n",
       "      <th>indeks_masa_badan</th>\n",
       "      <th>jenis_makanan</th>\n",
       "      <th>penyakit_khusus</th>\n",
       "      <th>penyakit_keturunan</th>\n",
       "      <th>lokasi_tinggal</th>\n",
       "      <th>mengatur_pola_makan</th>\n",
       "      <th>olahraga</th>\n",
       "      <th>jam_tidur_teratur</th>\n",
       "      <th>merokok</th>\n",
       "      <th>minum_alkohol</th>\n",
       "      <th>mengkonsumsi_suplemen</th>\n",
       "      <th>memperhatikan_kesehatan_mental</th>\n",
       "      <th>bersosialisasi</th>\n",
       "      <th>jumlah_sakit_setahun_terakhir</th>\n",
       "    </tr>\n",
       "  </thead>\n",
       "  <tbody>\n",
       "    <tr>\n",
       "      <th>0</th>\n",
       "      <td>6774</td>\n",
       "      <td>5</td>\n",
       "      <td>18.03</td>\n",
       "      <td>jenis3 jenis4</td>\n",
       "      <td>26</td>\n",
       "      <td>tidak ada</td>\n",
       "      <td>pedesaan</td>\n",
       "      <td>ya</td>\n",
       "      <td>tidak</td>\n",
       "      <td>tidak</td>\n",
       "      <td>tidak</td>\n",
       "      <td>tidak</td>\n",
       "      <td>tidak</td>\n",
       "      <td>tidak</td>\n",
       "      <td>tidak</td>\n",
       "      <td>1.0</td>\n",
       "    </tr>\n",
       "    <tr>\n",
       "      <th>1</th>\n",
       "      <td>8117</td>\n",
       "      <td>34</td>\n",
       "      <td>28.07</td>\n",
       "      <td>jenis6</td>\n",
       "      <td>46</td>\n",
       "      <td>tidak ada</td>\n",
       "      <td>perkotaan</td>\n",
       "      <td>ya</td>\n",
       "      <td>tidak</td>\n",
       "      <td>tidak</td>\n",
       "      <td>ya</td>\n",
       "      <td>tidak</td>\n",
       "      <td>tidak</td>\n",
       "      <td>tidak</td>\n",
       "      <td>tidak</td>\n",
       "      <td>1.0</td>\n",
       "    </tr>\n",
       "    <tr>\n",
       "      <th>2</th>\n",
       "      <td>24780</td>\n",
       "      <td>52</td>\n",
       "      <td>23.71</td>\n",
       "      <td>jenis4</td>\n",
       "      <td>34</td>\n",
       "      <td>tidak ada</td>\n",
       "      <td>perkotaan</td>\n",
       "      <td>ya</td>\n",
       "      <td>tidak</td>\n",
       "      <td>tidak</td>\n",
       "      <td>ya</td>\n",
       "      <td>tidak</td>\n",
       "      <td>tidak</td>\n",
       "      <td>tidak</td>\n",
       "      <td>tidak</td>\n",
       "      <td>1.0</td>\n",
       "    </tr>\n",
       "    <tr>\n",
       "      <th>3</th>\n",
       "      <td>8532</td>\n",
       "      <td>16</td>\n",
       "      <td>22.93</td>\n",
       "      <td>jenis2</td>\n",
       "      <td>26</td>\n",
       "      <td>tidak ada</td>\n",
       "      <td>pedesaan</td>\n",
       "      <td>ya</td>\n",
       "      <td>ya</td>\n",
       "      <td>tidak</td>\n",
       "      <td>ya</td>\n",
       "      <td>tidak</td>\n",
       "      <td>tidak</td>\n",
       "      <td>tidak</td>\n",
       "      <td>ya</td>\n",
       "      <td>3.0</td>\n",
       "    </tr>\n",
       "    <tr>\n",
       "      <th>4</th>\n",
       "      <td>9139</td>\n",
       "      <td>3</td>\n",
       "      <td>29.44</td>\n",
       "      <td>jenis3</td>\n",
       "      <td>31</td>\n",
       "      <td>tidak ada</td>\n",
       "      <td>perkotaan</td>\n",
       "      <td>ya</td>\n",
       "      <td>tidak</td>\n",
       "      <td>tidak</td>\n",
       "      <td>tidak</td>\n",
       "      <td>tidak</td>\n",
       "      <td>tidak</td>\n",
       "      <td>tidak</td>\n",
       "      <td>tidak</td>\n",
       "      <td>1.0</td>\n",
       "    </tr>\n",
       "    <tr>\n",
       "      <th>...</th>\n",
       "      <td>...</td>\n",
       "      <td>...</td>\n",
       "      <td>...</td>\n",
       "      <td>...</td>\n",
       "      <td>...</td>\n",
       "      <td>...</td>\n",
       "      <td>...</td>\n",
       "      <td>...</td>\n",
       "      <td>...</td>\n",
       "      <td>...</td>\n",
       "      <td>...</td>\n",
       "      <td>...</td>\n",
       "      <td>...</td>\n",
       "      <td>...</td>\n",
       "      <td>...</td>\n",
       "      <td>...</td>\n",
       "    </tr>\n",
       "    <tr>\n",
       "      <th>4983</th>\n",
       "      <td>9040</td>\n",
       "      <td>60</td>\n",
       "      <td>18.57</td>\n",
       "      <td>jenis6</td>\n",
       "      <td>15</td>\n",
       "      <td>tidak ada</td>\n",
       "      <td>pedesaan</td>\n",
       "      <td>tidak</td>\n",
       "      <td>ya</td>\n",
       "      <td>tidak</td>\n",
       "      <td>ya</td>\n",
       "      <td>tidak</td>\n",
       "      <td>tidak</td>\n",
       "      <td>tidak</td>\n",
       "      <td>tidak</td>\n",
       "      <td>1.0</td>\n",
       "    </tr>\n",
       "    <tr>\n",
       "      <th>4984</th>\n",
       "      <td>19022</td>\n",
       "      <td>64</td>\n",
       "      <td>29.18</td>\n",
       "      <td>jenis1</td>\n",
       "      <td>35</td>\n",
       "      <td>tidak ada</td>\n",
       "      <td>pedesaan</td>\n",
       "      <td>ya</td>\n",
       "      <td>tidak</td>\n",
       "      <td>ya</td>\n",
       "      <td>tidak</td>\n",
       "      <td>tidak</td>\n",
       "      <td>tidak</td>\n",
       "      <td>tidak</td>\n",
       "      <td>tidak</td>\n",
       "      <td>2.0</td>\n",
       "    </tr>\n",
       "    <tr>\n",
       "      <th>4985</th>\n",
       "      <td>2981</td>\n",
       "      <td>46</td>\n",
       "      <td>24.02</td>\n",
       "      <td>jenis2</td>\n",
       "      <td>25</td>\n",
       "      <td>tidak ada</td>\n",
       "      <td>perkotaan</td>\n",
       "      <td>ya</td>\n",
       "      <td>tidak</td>\n",
       "      <td>tidak</td>\n",
       "      <td>tidak</td>\n",
       "      <td>tidak</td>\n",
       "      <td>ya</td>\n",
       "      <td>tidak</td>\n",
       "      <td>ya</td>\n",
       "      <td>3.0</td>\n",
       "    </tr>\n",
       "    <tr>\n",
       "      <th>4986</th>\n",
       "      <td>15814</td>\n",
       "      <td>38</td>\n",
       "      <td>29.51</td>\n",
       "      <td>jenis3</td>\n",
       "      <td>11</td>\n",
       "      <td>tidak ada</td>\n",
       "      <td>pedesaan</td>\n",
       "      <td>ya</td>\n",
       "      <td>tidak</td>\n",
       "      <td>tidak</td>\n",
       "      <td>ya</td>\n",
       "      <td>tidak</td>\n",
       "      <td>tidak</td>\n",
       "      <td>tidak</td>\n",
       "      <td>tidak</td>\n",
       "      <td>1.0</td>\n",
       "    </tr>\n",
       "    <tr>\n",
       "      <th>4987</th>\n",
       "      <td>19476</td>\n",
       "      <td>10</td>\n",
       "      <td>23.87</td>\n",
       "      <td>jenis2 jenis4</td>\n",
       "      <td>50</td>\n",
       "      <td>tidak ada</td>\n",
       "      <td>perkotaan</td>\n",
       "      <td>ya</td>\n",
       "      <td>tidak</td>\n",
       "      <td>tidak</td>\n",
       "      <td>tidak</td>\n",
       "      <td>tidak</td>\n",
       "      <td>tidak</td>\n",
       "      <td>tidak</td>\n",
       "      <td>tidak</td>\n",
       "      <td>1.0</td>\n",
       "    </tr>\n",
       "  </tbody>\n",
       "</table>\n",
       "<p>4988 rows × 16 columns</p>\n",
       "</div>"
      ],
      "text/plain": [
       "         id  umur  indeks_masa_badan   jenis_makanan  penyakit_khusus  \\\n",
       "0      6774     5              18.03  jenis3 jenis4                26   \n",
       "1      8117    34              28.07          jenis6               46   \n",
       "2     24780    52              23.71         jenis4                34   \n",
       "3      8532    16              22.93         jenis2                26   \n",
       "4      9139     3              29.44         jenis3                31   \n",
       "...     ...   ...                ...             ...              ...   \n",
       "4983   9040    60              18.57          jenis6               15   \n",
       "4984  19022    64              29.18         jenis1                35   \n",
       "4985   2981    46              24.02         jenis2                25   \n",
       "4986  15814    38              29.51         jenis3                11   \n",
       "4987  19476    10              23.87  jenis2 jenis4                50   \n",
       "\n",
       "     penyakit_keturunan lokasi_tinggal mengatur_pola_makan olahraga  \\\n",
       "0             tidak ada       pedesaan                  ya    tidak   \n",
       "1             tidak ada      perkotaan                  ya    tidak   \n",
       "2             tidak ada      perkotaan                  ya    tidak   \n",
       "3             tidak ada       pedesaan                  ya       ya   \n",
       "4             tidak ada      perkotaan                  ya    tidak   \n",
       "...                 ...            ...                 ...      ...   \n",
       "4983          tidak ada       pedesaan               tidak       ya   \n",
       "4984          tidak ada       pedesaan                  ya    tidak   \n",
       "4985          tidak ada      perkotaan                  ya    tidak   \n",
       "4986          tidak ada       pedesaan                  ya    tidak   \n",
       "4987          tidak ada      perkotaan                  ya    tidak   \n",
       "\n",
       "     jam_tidur_teratur merokok minum_alkohol mengkonsumsi_suplemen  \\\n",
       "0                tidak   tidak         tidak                 tidak   \n",
       "1                tidak      ya         tidak                 tidak   \n",
       "2                tidak      ya         tidak                 tidak   \n",
       "3                tidak      ya         tidak                 tidak   \n",
       "4                tidak   tidak         tidak                 tidak   \n",
       "...                ...     ...           ...                   ...   \n",
       "4983             tidak      ya         tidak                 tidak   \n",
       "4984                ya   tidak         tidak                 tidak   \n",
       "4985             tidak   tidak         tidak                    ya   \n",
       "4986             tidak      ya         tidak                 tidak   \n",
       "4987             tidak   tidak         tidak                 tidak   \n",
       "\n",
       "     memperhatikan_kesehatan_mental bersosialisasi  \\\n",
       "0                             tidak          tidak   \n",
       "1                             tidak          tidak   \n",
       "2                             tidak          tidak   \n",
       "3                             tidak             ya   \n",
       "4                             tidak          tidak   \n",
       "...                             ...            ...   \n",
       "4983                          tidak          tidak   \n",
       "4984                          tidak          tidak   \n",
       "4985                          tidak             ya   \n",
       "4986                          tidak          tidak   \n",
       "4987                          tidak          tidak   \n",
       "\n",
       "      jumlah_sakit_setahun_terakhir  \n",
       "0                               1.0  \n",
       "1                               1.0  \n",
       "2                               1.0  \n",
       "3                               3.0  \n",
       "4                               1.0  \n",
       "...                             ...  \n",
       "4983                            1.0  \n",
       "4984                            2.0  \n",
       "4985                            3.0  \n",
       "4986                            1.0  \n",
       "4987                            1.0  \n",
       "\n",
       "[4988 rows x 16 columns]"
      ]
     },
     "execution_count": 96,
     "metadata": {},
     "output_type": "execute_result"
    }
   ],
   "source": [
    "df_test"
   ]
  },
  {
   "cell_type": "code",
   "execution_count": 6,
   "id": "cda9ff20-07dc-405e-a717-9dacfd44f129",
   "metadata": {},
   "outputs": [
    {
     "data": {
      "text/plain": [
       "Index(['id', 'umur', 'indeks_masa_badan', 'jenis_makanan', 'penyakit_khusus',\n",
       "       'penyakit_keturunan', 'lokasi_tinggal', 'mengatur_pola_makan',\n",
       "       'olahraga', 'jam_tidur_teratur', 'merokok', 'minum_alkohol',\n",
       "       'mengkonsumsi_suplemen', 'memperhatikan_kesehatan_mental',\n",
       "       'bersosialisasi', 'jumlah_sakit_setahun_terakhir', 'sehat'],\n",
       "      dtype='object')"
      ]
     },
     "execution_count": 6,
     "metadata": {},
     "output_type": "execute_result"
    }
   ],
   "source": [
    "df_train.columns"
   ]
  },
  {
   "cell_type": "code",
   "execution_count": 7,
   "id": "344762bf-d179-4872-ab09-5e99fee0df2e",
   "metadata": {
    "scrolled": true
   },
   "outputs": [
    {
     "data": {
      "text/plain": [
       "(19949, 17)"
      ]
     },
     "execution_count": 7,
     "metadata": {},
     "output_type": "execute_result"
    }
   ],
   "source": [
    "df_train.shape"
   ]
  },
  {
   "cell_type": "code",
   "execution_count": 8,
   "id": "644818d1-f0a9-4383-ab38-3d8ae0c70fc0",
   "metadata": {},
   "outputs": [
    {
     "name": "stdout",
     "output_type": "stream",
     "text": [
      "<class 'pandas.core.frame.DataFrame'>\n",
      "RangeIndex: 19949 entries, 0 to 19948\n",
      "Data columns (total 17 columns):\n",
      " #   Column                          Non-Null Count  Dtype  \n",
      "---  ------                          --------------  -----  \n",
      " 0   id                              19949 non-null  int64  \n",
      " 1   umur                            19949 non-null  int64  \n",
      " 2   indeks_masa_badan               19949 non-null  float64\n",
      " 3   jenis_makanan                   19949 non-null  object \n",
      " 4   penyakit_khusus                 19949 non-null  int64  \n",
      " 5   penyakit_keturunan              19949 non-null  object \n",
      " 6   lokasi_tinggal                  19949 non-null  object \n",
      " 7   mengatur_pola_makan             19949 non-null  object \n",
      " 8   olahraga                        19949 non-null  object \n",
      " 9   jam_tidur_teratur               19949 non-null  object \n",
      " 10  merokok                         19949 non-null  object \n",
      " 11  minum_alkohol                   19949 non-null  object \n",
      " 12  mengkonsumsi_suplemen           19949 non-null  object \n",
      " 13  memperhatikan_kesehatan_mental  19949 non-null  object \n",
      " 14  bersosialisasi                  19949 non-null  object \n",
      " 15  jumlah_sakit_setahun_terakhir   19949 non-null  float64\n",
      " 16  sehat                           19949 non-null  object \n",
      "dtypes: float64(2), int64(3), object(12)\n",
      "memory usage: 2.6+ MB\n"
     ]
    }
   ],
   "source": [
    "df_train.info()"
   ]
  },
  {
   "cell_type": "code",
   "execution_count": 9,
   "id": "28dee1c9-dc0a-48c0-b7b1-0f113c6ec318",
   "metadata": {},
   "outputs": [
    {
     "data": {
      "text/html": [
       "<div>\n",
       "<style scoped>\n",
       "    .dataframe tbody tr th:only-of-type {\n",
       "        vertical-align: middle;\n",
       "    }\n",
       "\n",
       "    .dataframe tbody tr th {\n",
       "        vertical-align: top;\n",
       "    }\n",
       "\n",
       "    .dataframe thead th {\n",
       "        text-align: right;\n",
       "    }\n",
       "</style>\n",
       "<table border=\"1\" class=\"dataframe\">\n",
       "  <thead>\n",
       "    <tr style=\"text-align: right;\">\n",
       "      <th></th>\n",
       "      <th>id</th>\n",
       "      <th>umur</th>\n",
       "      <th>indeks_masa_badan</th>\n",
       "      <th>penyakit_khusus</th>\n",
       "      <th>jumlah_sakit_setahun_terakhir</th>\n",
       "    </tr>\n",
       "  </thead>\n",
       "  <tbody>\n",
       "    <tr>\n",
       "      <th>count</th>\n",
       "      <td>19949.000000</td>\n",
       "      <td>19949.000000</td>\n",
       "      <td>19949.000000</td>\n",
       "      <td>19949.000000</td>\n",
       "      <td>19949.000000</td>\n",
       "    </tr>\n",
       "    <tr>\n",
       "      <th>mean</th>\n",
       "      <td>12453.449697</td>\n",
       "      <td>33.234047</td>\n",
       "      <td>23.466072</td>\n",
       "      <td>26.512557</td>\n",
       "      <td>1.757482</td>\n",
       "    </tr>\n",
       "    <tr>\n",
       "      <th>std</th>\n",
       "      <td>7203.749026</td>\n",
       "      <td>19.394246</td>\n",
       "      <td>3.767784</td>\n",
       "      <td>15.069903</td>\n",
       "      <td>0.770115</td>\n",
       "    </tr>\n",
       "    <tr>\n",
       "      <th>min</th>\n",
       "      <td>1.000000</td>\n",
       "      <td>0.000000</td>\n",
       "      <td>17.000000</td>\n",
       "      <td>1.000000</td>\n",
       "      <td>1.000000</td>\n",
       "    </tr>\n",
       "    <tr>\n",
       "      <th>25%</th>\n",
       "      <td>6219.000000</td>\n",
       "      <td>17.000000</td>\n",
       "      <td>20.210000</td>\n",
       "      <td>13.000000</td>\n",
       "      <td>1.000000</td>\n",
       "    </tr>\n",
       "    <tr>\n",
       "      <th>50%</th>\n",
       "      <td>12418.000000</td>\n",
       "      <td>33.000000</td>\n",
       "      <td>23.400000</td>\n",
       "      <td>26.000000</td>\n",
       "      <td>2.000000</td>\n",
       "    </tr>\n",
       "    <tr>\n",
       "      <th>75%</th>\n",
       "      <td>18706.000000</td>\n",
       "      <td>50.000000</td>\n",
       "      <td>26.760000</td>\n",
       "      <td>40.000000</td>\n",
       "      <td>2.000000</td>\n",
       "    </tr>\n",
       "    <tr>\n",
       "      <th>max</th>\n",
       "      <td>24936.000000</td>\n",
       "      <td>66.000000</td>\n",
       "      <td>30.000000</td>\n",
       "      <td>52.000000</td>\n",
       "      <td>5.000000</td>\n",
       "    </tr>\n",
       "  </tbody>\n",
       "</table>\n",
       "</div>"
      ],
      "text/plain": [
       "                 id          umur  indeks_masa_badan  penyakit_khusus  \\\n",
       "count  19949.000000  19949.000000       19949.000000     19949.000000   \n",
       "mean   12453.449697     33.234047          23.466072        26.512557   \n",
       "std     7203.749026     19.394246           3.767784        15.069903   \n",
       "min        1.000000      0.000000          17.000000         1.000000   \n",
       "25%     6219.000000     17.000000          20.210000        13.000000   \n",
       "50%    12418.000000     33.000000          23.400000        26.000000   \n",
       "75%    18706.000000     50.000000          26.760000        40.000000   \n",
       "max    24936.000000     66.000000          30.000000        52.000000   \n",
       "\n",
       "       jumlah_sakit_setahun_terakhir  \n",
       "count                   19949.000000  \n",
       "mean                        1.757482  \n",
       "std                         0.770115  \n",
       "min                         1.000000  \n",
       "25%                         1.000000  \n",
       "50%                         2.000000  \n",
       "75%                         2.000000  \n",
       "max                         5.000000  "
      ]
     },
     "execution_count": 9,
     "metadata": {},
     "output_type": "execute_result"
    }
   ],
   "source": [
    "df_train.describe()"
   ]
  },
  {
   "cell_type": "code",
   "execution_count": 10,
   "id": "55726e2c-bf07-4e4a-97c7-5a6639fbbedf",
   "metadata": {},
   "outputs": [
    {
     "data": {
      "text/plain": [
       "0"
      ]
     },
     "execution_count": 10,
     "metadata": {},
     "output_type": "execute_result"
    }
   ],
   "source": [
    "df_train.duplicated().sum()"
   ]
  },
  {
   "cell_type": "code",
   "execution_count": 11,
   "id": "72b1e412-a891-4831-a118-dae595195fa3",
   "metadata": {},
   "outputs": [
    {
     "data": {
      "text/plain": [
       "id                                0\n",
       "umur                              0\n",
       "indeks_masa_badan                 0\n",
       "jenis_makanan                     0\n",
       "penyakit_khusus                   0\n",
       "penyakit_keturunan                0\n",
       "lokasi_tinggal                    0\n",
       "mengatur_pola_makan               0\n",
       "olahraga                          0\n",
       "jam_tidur_teratur                 0\n",
       "merokok                           0\n",
       "minum_alkohol                     0\n",
       "mengkonsumsi_suplemen             0\n",
       "memperhatikan_kesehatan_mental    0\n",
       "bersosialisasi                    0\n",
       "jumlah_sakit_setahun_terakhir     0\n",
       "sehat                             0\n",
       "dtype: int64"
      ]
     },
     "execution_count": 11,
     "metadata": {},
     "output_type": "execute_result"
    }
   ],
   "source": [
    "df_train.isnull().sum()"
   ]
  },
  {
   "cell_type": "code",
   "execution_count": 12,
   "id": "d861c9fd-2f1a-4570-974b-0fa7f03eceab",
   "metadata": {
    "scrolled": true
   },
   "outputs": [
    {
     "data": {
      "text/plain": [
       "19949"
      ]
     },
     "execution_count": 12,
     "metadata": {},
     "output_type": "execute_result"
    }
   ],
   "source": [
    "df_train['id'].nunique()"
   ]
  },
  {
   "cell_type": "code",
   "execution_count": 13,
   "id": "84e665f1-5b1e-4ad3-974b-0da2cb7302ec",
   "metadata": {},
   "outputs": [
    {
     "data": {
      "text/plain": [
       "umur\n",
       "64    376\n",
       "31    363\n",
       "28    347\n",
       "19    340\n",
       "38    335\n",
       "     ... \n",
       "10    260\n",
       "27    260\n",
       "66    260\n",
       "20    258\n",
       "45    257\n",
       "Name: count, Length: 67, dtype: int64"
      ]
     },
     "execution_count": 13,
     "metadata": {},
     "output_type": "execute_result"
    }
   ],
   "source": [
    "df_train['umur'].value_counts()"
   ]
  },
  {
   "cell_type": "code",
   "execution_count": 14,
   "id": "a1b97119-487c-4c9b-9add-b2681149d314",
   "metadata": {
    "scrolled": true
   },
   "outputs": [
    {
     "data": {
      "text/plain": [
       "67"
      ]
     },
     "execution_count": 14,
     "metadata": {},
     "output_type": "execute_result"
    }
   ],
   "source": [
    "df_train['umur'].nunique()"
   ]
  },
  {
   "cell_type": "markdown",
   "id": "3ec905c4-e4bb-4a31-ba7d-a7710598d5ee",
   "metadata": {},
   "source": [
    "## HIPOTESIS, DELETE YG UMUR 0"
   ]
  },
  {
   "cell_type": "code",
   "execution_count": 15,
   "id": "d12038ac-f360-46c2-af98-e87566793dd3",
   "metadata": {},
   "outputs": [
    {
     "data": {
      "text/html": [
       "<div>\n",
       "<style scoped>\n",
       "    .dataframe tbody tr th:only-of-type {\n",
       "        vertical-align: middle;\n",
       "    }\n",
       "\n",
       "    .dataframe tbody tr th {\n",
       "        vertical-align: top;\n",
       "    }\n",
       "\n",
       "    .dataframe thead th {\n",
       "        text-align: right;\n",
       "    }\n",
       "</style>\n",
       "<table border=\"1\" class=\"dataframe\">\n",
       "  <thead>\n",
       "    <tr style=\"text-align: right;\">\n",
       "      <th></th>\n",
       "      <th>id</th>\n",
       "      <th>umur</th>\n",
       "      <th>indeks_masa_badan</th>\n",
       "      <th>jenis_makanan</th>\n",
       "      <th>penyakit_khusus</th>\n",
       "      <th>penyakit_keturunan</th>\n",
       "      <th>lokasi_tinggal</th>\n",
       "      <th>mengatur_pola_makan</th>\n",
       "      <th>olahraga</th>\n",
       "      <th>jam_tidur_teratur</th>\n",
       "      <th>merokok</th>\n",
       "      <th>minum_alkohol</th>\n",
       "      <th>mengkonsumsi_suplemen</th>\n",
       "      <th>memperhatikan_kesehatan_mental</th>\n",
       "      <th>bersosialisasi</th>\n",
       "      <th>jumlah_sakit_setahun_terakhir</th>\n",
       "      <th>sehat</th>\n",
       "    </tr>\n",
       "  </thead>\n",
       "  <tbody>\n",
       "    <tr>\n",
       "      <th>28</th>\n",
       "      <td>9949</td>\n",
       "      <td>0</td>\n",
       "      <td>28.60</td>\n",
       "      <td>jenis6</td>\n",
       "      <td>45</td>\n",
       "      <td>tidak ada</td>\n",
       "      <td>pedesaan</td>\n",
       "      <td>ya</td>\n",
       "      <td>tidak</td>\n",
       "      <td>tidak</td>\n",
       "      <td>tidak</td>\n",
       "      <td>tidak</td>\n",
       "      <td>tidak</td>\n",
       "      <td>tidak</td>\n",
       "      <td>tidak</td>\n",
       "      <td>1.0</td>\n",
       "      <td>tidak</td>\n",
       "    </tr>\n",
       "    <tr>\n",
       "      <th>45</th>\n",
       "      <td>1720</td>\n",
       "      <td>0</td>\n",
       "      <td>23.05</td>\n",
       "      <td>jenis1</td>\n",
       "      <td>7</td>\n",
       "      <td>tidak ada</td>\n",
       "      <td>pedesaan</td>\n",
       "      <td>ya</td>\n",
       "      <td>ya</td>\n",
       "      <td>tidak</td>\n",
       "      <td>tidak</td>\n",
       "      <td>ya</td>\n",
       "      <td>tidak</td>\n",
       "      <td>tidak</td>\n",
       "      <td>tidak</td>\n",
       "      <td>3.0</td>\n",
       "      <td>ya</td>\n",
       "    </tr>\n",
       "    <tr>\n",
       "      <th>51</th>\n",
       "      <td>21634</td>\n",
       "      <td>0</td>\n",
       "      <td>28.24</td>\n",
       "      <td>jenis6</td>\n",
       "      <td>49</td>\n",
       "      <td>tidak ada</td>\n",
       "      <td>pedesaan</td>\n",
       "      <td>ya</td>\n",
       "      <td>tidak</td>\n",
       "      <td>tidak</td>\n",
       "      <td>tidak</td>\n",
       "      <td>tidak</td>\n",
       "      <td>tidak</td>\n",
       "      <td>tidak</td>\n",
       "      <td>ya</td>\n",
       "      <td>2.0</td>\n",
       "      <td>tidak</td>\n",
       "    </tr>\n",
       "    <tr>\n",
       "      <th>128</th>\n",
       "      <td>7234</td>\n",
       "      <td>0</td>\n",
       "      <td>21.44</td>\n",
       "      <td>jenis1 jenis5</td>\n",
       "      <td>16</td>\n",
       "      <td>tidak ada</td>\n",
       "      <td>pedesaan</td>\n",
       "      <td>ya</td>\n",
       "      <td>tidak</td>\n",
       "      <td>tidak</td>\n",
       "      <td>tidak</td>\n",
       "      <td>tidak</td>\n",
       "      <td>tidak</td>\n",
       "      <td>tidak</td>\n",
       "      <td>ya</td>\n",
       "      <td>2.0</td>\n",
       "      <td>ya</td>\n",
       "    </tr>\n",
       "    <tr>\n",
       "      <th>152</th>\n",
       "      <td>12664</td>\n",
       "      <td>0</td>\n",
       "      <td>20.00</td>\n",
       "      <td>jenis5</td>\n",
       "      <td>52</td>\n",
       "      <td>tidak ada</td>\n",
       "      <td>pedesaan</td>\n",
       "      <td>ya</td>\n",
       "      <td>tidak</td>\n",
       "      <td>tidak</td>\n",
       "      <td>tidak</td>\n",
       "      <td>tidak</td>\n",
       "      <td>tidak</td>\n",
       "      <td>tidak</td>\n",
       "      <td>tidak</td>\n",
       "      <td>1.0</td>\n",
       "      <td>ya</td>\n",
       "    </tr>\n",
       "    <tr>\n",
       "      <th>...</th>\n",
       "      <td>...</td>\n",
       "      <td>...</td>\n",
       "      <td>...</td>\n",
       "      <td>...</td>\n",
       "      <td>...</td>\n",
       "      <td>...</td>\n",
       "      <td>...</td>\n",
       "      <td>...</td>\n",
       "      <td>...</td>\n",
       "      <td>...</td>\n",
       "      <td>...</td>\n",
       "      <td>...</td>\n",
       "      <td>...</td>\n",
       "      <td>...</td>\n",
       "      <td>...</td>\n",
       "      <td>...</td>\n",
       "      <td>...</td>\n",
       "    </tr>\n",
       "    <tr>\n",
       "      <th>19797</th>\n",
       "      <td>10507</td>\n",
       "      <td>0</td>\n",
       "      <td>28.19</td>\n",
       "      <td>jenis2</td>\n",
       "      <td>3</td>\n",
       "      <td>tidak ada</td>\n",
       "      <td>perkotaan</td>\n",
       "      <td>ya</td>\n",
       "      <td>ya</td>\n",
       "      <td>tidak</td>\n",
       "      <td>tidak</td>\n",
       "      <td>tidak</td>\n",
       "      <td>tidak</td>\n",
       "      <td>tidak</td>\n",
       "      <td>tidak</td>\n",
       "      <td>2.0</td>\n",
       "      <td>tidak</td>\n",
       "    </tr>\n",
       "    <tr>\n",
       "      <th>19804</th>\n",
       "      <td>14724</td>\n",
       "      <td>0</td>\n",
       "      <td>28.24</td>\n",
       "      <td>jenis6</td>\n",
       "      <td>18</td>\n",
       "      <td>tidak ada</td>\n",
       "      <td>pedesaan</td>\n",
       "      <td>ya</td>\n",
       "      <td>tidak</td>\n",
       "      <td>tidak</td>\n",
       "      <td>tidak</td>\n",
       "      <td>tidak</td>\n",
       "      <td>tidak</td>\n",
       "      <td>tidak</td>\n",
       "      <td>ya</td>\n",
       "      <td>2.0</td>\n",
       "      <td>tidak</td>\n",
       "    </tr>\n",
       "    <tr>\n",
       "      <th>19866</th>\n",
       "      <td>18197</td>\n",
       "      <td>0</td>\n",
       "      <td>28.68</td>\n",
       "      <td>jenis2</td>\n",
       "      <td>16</td>\n",
       "      <td>tidak ada</td>\n",
       "      <td>pedesaan</td>\n",
       "      <td>ya</td>\n",
       "      <td>tidak</td>\n",
       "      <td>tidak</td>\n",
       "      <td>tidak</td>\n",
       "      <td>tidak</td>\n",
       "      <td>tidak</td>\n",
       "      <td>tidak</td>\n",
       "      <td>tidak</td>\n",
       "      <td>1.0</td>\n",
       "      <td>tidak</td>\n",
       "    </tr>\n",
       "    <tr>\n",
       "      <th>19914</th>\n",
       "      <td>21643</td>\n",
       "      <td>0</td>\n",
       "      <td>23.65</td>\n",
       "      <td>jenis6</td>\n",
       "      <td>7</td>\n",
       "      <td>tidak ada</td>\n",
       "      <td>pedesaan</td>\n",
       "      <td>ya</td>\n",
       "      <td>tidak</td>\n",
       "      <td>tidak</td>\n",
       "      <td>tidak</td>\n",
       "      <td>tidak</td>\n",
       "      <td>tidak</td>\n",
       "      <td>tidak</td>\n",
       "      <td>tidak</td>\n",
       "      <td>1.0</td>\n",
       "      <td>ya</td>\n",
       "    </tr>\n",
       "    <tr>\n",
       "      <th>19934</th>\n",
       "      <td>15598</td>\n",
       "      <td>0</td>\n",
       "      <td>28.01</td>\n",
       "      <td>jenis6</td>\n",
       "      <td>19</td>\n",
       "      <td>tidak ada</td>\n",
       "      <td>perkotaan</td>\n",
       "      <td>ya</td>\n",
       "      <td>tidak</td>\n",
       "      <td>tidak</td>\n",
       "      <td>tidak</td>\n",
       "      <td>ya</td>\n",
       "      <td>tidak</td>\n",
       "      <td>tidak</td>\n",
       "      <td>ya</td>\n",
       "      <td>3.0</td>\n",
       "      <td>ya</td>\n",
       "    </tr>\n",
       "  </tbody>\n",
       "</table>\n",
       "<p>332 rows × 17 columns</p>\n",
       "</div>"
      ],
      "text/plain": [
       "          id  umur  indeks_masa_badan   jenis_makanan  penyakit_khusus  \\\n",
       "28      9949     0              28.60          jenis6               45   \n",
       "45      1720     0              23.05         jenis1                 7   \n",
       "51     21634     0              28.24          jenis6               49   \n",
       "128     7234     0              21.44  jenis1 jenis5                16   \n",
       "152    12664     0              20.00         jenis5                52   \n",
       "...      ...   ...                ...             ...              ...   \n",
       "19797  10507     0              28.19         jenis2                 3   \n",
       "19804  14724     0              28.24          jenis6               18   \n",
       "19866  18197     0              28.68         jenis2                16   \n",
       "19914  21643     0              23.65          jenis6                7   \n",
       "19934  15598     0              28.01          jenis6               19   \n",
       "\n",
       "      penyakit_keturunan lokasi_tinggal mengatur_pola_makan olahraga  \\\n",
       "28             tidak ada       pedesaan                  ya    tidak   \n",
       "45             tidak ada       pedesaan                  ya       ya   \n",
       "51             tidak ada       pedesaan                  ya    tidak   \n",
       "128            tidak ada       pedesaan                  ya    tidak   \n",
       "152            tidak ada       pedesaan                  ya    tidak   \n",
       "...                  ...            ...                 ...      ...   \n",
       "19797          tidak ada      perkotaan                  ya       ya   \n",
       "19804          tidak ada       pedesaan                  ya    tidak   \n",
       "19866          tidak ada       pedesaan                  ya    tidak   \n",
       "19914          tidak ada       pedesaan                  ya    tidak   \n",
       "19934          tidak ada      perkotaan                  ya    tidak   \n",
       "\n",
       "      jam_tidur_teratur merokok minum_alkohol mengkonsumsi_suplemen  \\\n",
       "28                tidak   tidak         tidak                 tidak   \n",
       "45                tidak   tidak            ya                 tidak   \n",
       "51                tidak   tidak         tidak                 tidak   \n",
       "128               tidak   tidak         tidak                 tidak   \n",
       "152               tidak   tidak         tidak                 tidak   \n",
       "...                 ...     ...           ...                   ...   \n",
       "19797             tidak   tidak         tidak                 tidak   \n",
       "19804             tidak   tidak         tidak                 tidak   \n",
       "19866             tidak   tidak         tidak                 tidak   \n",
       "19914             tidak   tidak         tidak                 tidak   \n",
       "19934             tidak   tidak            ya                 tidak   \n",
       "\n",
       "      memperhatikan_kesehatan_mental bersosialisasi  \\\n",
       "28                             tidak          tidak   \n",
       "45                             tidak          tidak   \n",
       "51                             tidak             ya   \n",
       "128                            tidak             ya   \n",
       "152                            tidak          tidak   \n",
       "...                              ...            ...   \n",
       "19797                          tidak          tidak   \n",
       "19804                          tidak             ya   \n",
       "19866                          tidak          tidak   \n",
       "19914                          tidak          tidak   \n",
       "19934                          tidak             ya   \n",
       "\n",
       "       jumlah_sakit_setahun_terakhir  sehat  \n",
       "28                               1.0  tidak  \n",
       "45                               3.0     ya  \n",
       "51                               2.0  tidak  \n",
       "128                              2.0     ya  \n",
       "152                              1.0     ya  \n",
       "...                              ...    ...  \n",
       "19797                            2.0  tidak  \n",
       "19804                            2.0  tidak  \n",
       "19866                            1.0  tidak  \n",
       "19914                            1.0     ya  \n",
       "19934                            3.0     ya  \n",
       "\n",
       "[332 rows x 17 columns]"
      ]
     },
     "execution_count": 15,
     "metadata": {},
     "output_type": "execute_result"
    }
   ],
   "source": [
    "df_train.query('umur == 0')"
   ]
  },
  {
   "cell_type": "code",
   "execution_count": 16,
   "id": "334b3ccb-4c04-47e0-a13c-126c4fb39968",
   "metadata": {},
   "outputs": [
    {
     "data": {
      "text/plain": [
       "indeks_masa_badan\n",
       "20.21    40\n",
       "17.23    38\n",
       "19.28    37\n",
       "19.05    36\n",
       "24.23    35\n",
       "         ..\n",
       "26.24     2\n",
       "28.06     2\n",
       "19.57     1\n",
       "18.49     1\n",
       "29.36     1\n",
       "Name: count, Length: 1301, dtype: int64"
      ]
     },
     "execution_count": 16,
     "metadata": {},
     "output_type": "execute_result"
    }
   ],
   "source": [
    "df_train['indeks_masa_badan'].value_counts()"
   ]
  },
  {
   "cell_type": "code",
   "execution_count": 17,
   "id": "a0aa5ecf-58b5-4714-872f-7b3eb5a562d7",
   "metadata": {},
   "outputs": [
    {
     "data": {
      "text/plain": [
       "1301"
      ]
     },
     "execution_count": 17,
     "metadata": {},
     "output_type": "execute_result"
    }
   ],
   "source": [
    "df_train['indeks_masa_badan'].nunique()"
   ]
  },
  {
   "cell_type": "code",
   "execution_count": 18,
   "id": "ccfed439-dd0a-43c5-8cf7-d91276ca3f34",
   "metadata": {},
   "outputs": [
    {
     "data": {
      "text/plain": [
       "jenis_makanan\n",
       "jenis6                                 7395\n",
       "jenis5                                 1696\n",
       "jenis2                                 1630\n",
       "jenis4                                 1625\n",
       "jenis3                                 1612\n",
       "jenis1                                 1607\n",
       "jenis2 jenis4                           370\n",
       "jenis1 jenis2                           369\n",
       "jenis4 jenis5                           363\n",
       "jenis1 jenis5                           354\n",
       "jenis2 jenis5                           346\n",
       "jenis1 jenis3                           344\n",
       "jenis3 jenis4                           344\n",
       "jenis2 jenis3                           342\n",
       "jenis1 jenis4                           341\n",
       "jenis3 jenis5                           338\n",
       "jenis1 jenis2 jenis5                     90\n",
       "jenis1 jenis2 jenis3                     88\n",
       "jenis1 jenis3 jenis4                     87\n",
       "jenis2 jenis3 jenis5                     80\n",
       "jenis1 jenis3 jenis5                     79\n",
       "jenis1 jenis2 jenis4                     78\n",
       "jenis3 jenis4 jenis5                     77\n",
       "jenis1 jenis4 jenis5                     68\n",
       "jenis2 jenis3 jenis4                     66\n",
       "jenis2 jenis4 jenis5                     64\n",
       "jenis2 jenis3 jenis4 jenis5              24\n",
       "jenis1 jenis3 jenis4 jenis5              21\n",
       "jenis1 jenis2 jenis3 jenis4              17\n",
       "jenis1 jenis2 jenis4 jenis5              17\n",
       "jenis1 jenis2 jenis3 jenis5              13\n",
       "jenis1 jenis2 jenis3 jenis4 jenis5        4\n",
       "Name: count, dtype: int64"
      ]
     },
     "execution_count": 18,
     "metadata": {},
     "output_type": "execute_result"
    }
   ],
   "source": [
    "df_train['jenis_makanan'].value_counts()"
   ]
  },
  {
   "cell_type": "code",
   "execution_count": 19,
   "id": "10051358-cca7-4b9f-8824-33bf23d9fb36",
   "metadata": {},
   "outputs": [
    {
     "data": {
      "text/plain": [
       "penyakit_khusus\n",
       "49    434\n",
       "17    419\n",
       "1     419\n",
       "19    416\n",
       "36    410\n",
       "48    409\n",
       "40    407\n",
       "6     404\n",
       "12    400\n",
       "8     399\n",
       "25    399\n",
       "11    398\n",
       "41    396\n",
       "24    396\n",
       "30    395\n",
       "5     392\n",
       "23    391\n",
       "7     391\n",
       "29    391\n",
       "43    389\n",
       "39    388\n",
       "34    387\n",
       "52    387\n",
       "4     386\n",
       "44    386\n",
       "20    383\n",
       "22    381\n",
       "42    381\n",
       "50    380\n",
       "51    379\n",
       "18    379\n",
       "46    379\n",
       "31    378\n",
       "33    378\n",
       "3     377\n",
       "35    375\n",
       "21    374\n",
       "27    373\n",
       "28    372\n",
       "45    370\n",
       "10    369\n",
       "9     368\n",
       "47    365\n",
       "32    365\n",
       "16    364\n",
       "13    363\n",
       "2     363\n",
       "15    356\n",
       "26    354\n",
       "38    348\n",
       "37    344\n",
       "14    342\n",
       "Name: count, dtype: int64"
      ]
     },
     "execution_count": 19,
     "metadata": {},
     "output_type": "execute_result"
    }
   ],
   "source": [
    "df_train['penyakit_khusus'].value_counts()"
   ]
  },
  {
   "cell_type": "code",
   "execution_count": 20,
   "id": "78741e49-8bee-4b2a-99b5-347012fb56d4",
   "metadata": {},
   "outputs": [
    {
     "data": {
      "text/plain": [
       "penyakit_keturunan\n",
       "tidak ada    19949\n",
       "Name: count, dtype: int64"
      ]
     },
     "execution_count": 20,
     "metadata": {},
     "output_type": "execute_result"
    }
   ],
   "source": [
    "df_train['penyakit_keturunan'].value_counts()"
   ]
  },
  {
   "cell_type": "code",
   "execution_count": 21,
   "id": "ca5f6380-326c-4f81-a42e-3fbba8d53771",
   "metadata": {},
   "outputs": [
    {
     "data": {
      "text/plain": [
       "lokasi_tinggal\n",
       "pedesaan     13882\n",
       "perkotaan     6067\n",
       "Name: count, dtype: int64"
      ]
     },
     "execution_count": 21,
     "metadata": {},
     "output_type": "execute_result"
    }
   ],
   "source": [
    "df_train['lokasi_tinggal'].value_counts()"
   ]
  },
  {
   "cell_type": "code",
   "execution_count": 22,
   "id": "8c75f75f-bfcc-4113-9d7b-5384a1cb7022",
   "metadata": {},
   "outputs": [
    {
     "data": {
      "text/plain": [
       "<bound method IndexOpsMixin.value_counts of 0        ya\n",
       "1        ya\n",
       "2        ya\n",
       "3        ya\n",
       "4        ya\n",
       "         ..\n",
       "19944    ya\n",
       "19945    ya\n",
       "19946    ya\n",
       "19947    ya\n",
       "19948    ya\n",
       "Name: mengatur_pola_makan, Length: 19949, dtype: object>"
      ]
     },
     "execution_count": 22,
     "metadata": {},
     "output_type": "execute_result"
    }
   ],
   "source": [
    "df_train['mengatur_pola_makan'].value_counts"
   ]
  },
  {
   "cell_type": "code",
   "execution_count": 23,
   "id": "e1f6e3b6-1bd0-4ac9-a4b4-60187361b8c9",
   "metadata": {},
   "outputs": [
    {
     "data": {
      "text/plain": [
       "olahraga\n",
       "tidak    17193\n",
       "ya        2756\n",
       "Name: count, dtype: int64"
      ]
     },
     "execution_count": 23,
     "metadata": {},
     "output_type": "execute_result"
    }
   ],
   "source": [
    "df_train['olahraga'].value_counts()"
   ]
  },
  {
   "cell_type": "code",
   "execution_count": 24,
   "id": "fe6f6584-b4f6-4f33-a00b-5bbf32d3cb04",
   "metadata": {},
   "outputs": [
    {
     "data": {
      "text/plain": [
       "jam_tidur_teratur\n",
       "tidak    16216\n",
       "ya        3733\n",
       "Name: count, dtype: int64"
      ]
     },
     "execution_count": 24,
     "metadata": {},
     "output_type": "execute_result"
    }
   ],
   "source": [
    "df_train['jam_tidur_teratur'].value_counts()"
   ]
  },
  {
   "cell_type": "code",
   "execution_count": 25,
   "id": "99827851-1430-4fff-b01d-48ee84c3e809",
   "metadata": {},
   "outputs": [
    {
     "data": {
      "text/plain": [
       "merokok\n",
       "tidak    11442\n",
       "ya        8507\n",
       "Name: count, dtype: int64"
      ]
     },
     "execution_count": 25,
     "metadata": {},
     "output_type": "execute_result"
    }
   ],
   "source": [
    "df_train['merokok'].value_counts()"
   ]
  },
  {
   "cell_type": "code",
   "execution_count": 26,
   "id": "5d294ea8-df71-4312-b2de-bd30b0a8d8b2",
   "metadata": {},
   "outputs": [
    {
     "data": {
      "text/plain": [
       "minum_alkohol\n",
       "tidak    18225\n",
       "ya        1724\n",
       "Name: count, dtype: int64"
      ]
     },
     "execution_count": 26,
     "metadata": {},
     "output_type": "execute_result"
    }
   ],
   "source": [
    "df_train['minum_alkohol'].value_counts()"
   ]
  },
  {
   "cell_type": "code",
   "execution_count": 27,
   "id": "a90cfa6c-3ffc-43e0-aecd-0f98de412852",
   "metadata": {},
   "outputs": [
    {
     "data": {
      "text/plain": [
       "mengkonsumsi_suplemen\n",
       "tidak    18906\n",
       "ya        1043\n",
       "Name: count, dtype: int64"
      ]
     },
     "execution_count": 27,
     "metadata": {},
     "output_type": "execute_result"
    }
   ],
   "source": [
    "df_train['mengkonsumsi_suplemen'].value_counts()"
   ]
  },
  {
   "cell_type": "code",
   "execution_count": 28,
   "id": "484ca45f-92c2-4a78-89c0-6a2c14ab370d",
   "metadata": {},
   "outputs": [
    {
     "data": {
      "text/plain": [
       "memperhatikan_kesehatan_mental\n",
       "tidak    19949\n",
       "Name: count, dtype: int64"
      ]
     },
     "execution_count": 28,
     "metadata": {},
     "output_type": "execute_result"
    }
   ],
   "source": [
    "df_train['memperhatikan_kesehatan_mental'].value_counts()"
   ]
  },
  {
   "cell_type": "code",
   "execution_count": 29,
   "id": "f7d049d1-33cf-4def-9781-162da77010b3",
   "metadata": {},
   "outputs": [
    {
     "data": {
      "text/plain": [
       "bersosialisasi\n",
       "tidak    12055\n",
       "ya        7894\n",
       "Name: count, dtype: int64"
      ]
     },
     "execution_count": 29,
     "metadata": {},
     "output_type": "execute_result"
    }
   ],
   "source": [
    "df_train['bersosialisasi'].value_counts()"
   ]
  },
  {
   "cell_type": "code",
   "execution_count": 30,
   "id": "d6358c7e-f370-43d1-bdd3-f544aea2d169",
   "metadata": {},
   "outputs": [
    {
     "data": {
      "text/plain": [
       "jumlah_sakit_setahun_terakhir\n",
       "1.0    8476\n",
       "2.0    8253\n",
       "3.0    2829\n",
       "4.0     364\n",
       "5.0      27\n",
       "Name: count, dtype: int64"
      ]
     },
     "execution_count": 30,
     "metadata": {},
     "output_type": "execute_result"
    }
   ],
   "source": [
    "df_train['jumlah_sakit_setahun_terakhir'].value_counts()"
   ]
  },
  {
   "cell_type": "code",
   "execution_count": 31,
   "id": "f2aad43e-a329-47da-9bac-4cfcaf661c26",
   "metadata": {},
   "outputs": [
    {
     "data": {
      "text/plain": [
       "sehat\n",
       "ya       12435\n",
       "tidak     7514\n",
       "Name: count, dtype: int64"
      ]
     },
     "execution_count": 31,
     "metadata": {},
     "output_type": "execute_result"
    }
   ],
   "source": [
    "df_train['sehat'].value_counts()"
   ]
  },
  {
   "cell_type": "markdown",
   "id": "d34a06f1-0095-47ac-8bff-082319857572",
   "metadata": {},
   "source": [
    "## Variabel"
   ]
  },
  {
   "cell_type": "markdown",
   "id": "54629781-51a8-4348-8458-310bc803f7ea",
   "metadata": {},
   "source": [
    "Variabel Numerical:  \n",
    "1. umur\n",
    "2. indeks_masa_badan\n",
    "3. penyakit_khusus\n",
    "4. jumlah_sakit_setahun_terakhir\n",
    "\n",
    "Variabel Categorical:\n",
    "1. jenis_makanan\n",
    "2. penyakit_keturunan\n",
    "3. lokasi_tinggal\n",
    "4. mengatur_pola_makan\n",
    "5. olahraga\n",
    "6. jam_tidur_teratur\n",
    "7. merokok\n",
    "8. minum_alkohol\n",
    "9. mengkonsumsi_suplemen\n",
    "10. memperhatikan_kesehatan_mental\n",
    "11. bersosialisasi\n",
    "12. jumlah_sakit_setahun_terakhir\n",
    "13. sehat"
   ]
  },
  {
   "cell_type": "markdown",
   "id": "2e572c6f-29e1-44f7-96c7-12ae141a8522",
   "metadata": {},
   "source": [
    "# Data Cleaning"
   ]
  },
  {
   "cell_type": "code",
   "execution_count": 32,
   "id": "4806c769-dd71-4853-9342-1ddbfb1adef4",
   "metadata": {},
   "outputs": [],
   "source": [
    "df_clean_umur_train = df_train[df_train['umur']!=0]\n",
    "df_clean_umur_test = df_test[df_test['umur']!=0]"
   ]
  },
  {
   "cell_type": "markdown",
   "id": "999a6896-a14b-4a42-b081-62f07475e3cb",
   "metadata": {},
   "source": [
    "# Mapping "
   ]
  },
  {
   "cell_type": "markdown",
   "id": "1c06d0b4-9ec0-4247-9473-1c59e19b500e",
   "metadata": {},
   "source": [
    "# Distribusi Data"
   ]
  },
  {
   "cell_type": "markdown",
   "id": "e64fab85-275c-4458-bf08-b5ea9958b0ee",
   "metadata": {},
   "source": [
    "perlu gak?"
   ]
  },
  {
   "cell_type": "code",
   "execution_count": 33,
   "id": "13f86706-5feb-4dba-bf57-c9c148c6bacd",
   "metadata": {},
   "outputs": [
    {
     "data": {
      "text/plain": [
       "<Axes: xlabel='umur', ylabel='Count'>"
      ]
     },
     "execution_count": 33,
     "metadata": {},
     "output_type": "execute_result"
    },
    {
     "data": {
      "image/png": "[encoded data removed]",
      "text/plain": [
       "<Figure size 640x480 with 1 Axes>"
      ]
     },
     "metadata": {},
     "output_type": "display_data"
    }
   ],
   "source": [
    "sns.histplot(data=df_train, x='umur')"
   ]
  },
  {
   "cell_type": "markdown",
   "id": "83476497-fab2-45ae-ae68-d3c64c71e1f7",
   "metadata": {},
   "source": [
    "# Exploratory Data Analysis"
   ]
  },
  {
   "cell_type": "code",
   "execution_count": 34,
   "id": "644269e5-9891-4d83-8e82-35dcab42cc8a",
   "metadata": {},
   "outputs": [],
   "source": [
    "df_sampled = df_train.sample(frac=0.1, random_state=1)"
   ]
  },
  {
   "cell_type": "markdown",
   "id": "413cd8f9-97ba-4b44-a373-4605dfdcc434",
   "metadata": {},
   "source": [
    "## Univariate Analysis"
   ]
  },
  {
   "cell_type": "code",
   "execution_count": 35,
   "id": "3eca3136-6948-4073-86db-22449cba041d",
   "metadata": {},
   "outputs": [
    {
     "data": {
      "text/plain": [
       "<Axes: xlabel='umur'>"
      ]
     },
     "execution_count": 35,
     "metadata": {},
     "output_type": "execute_result"
    },
    {
     "data": {
      "image/png": "[encoded data removed]",
      "text/plain": [
       "<Figure size 640x480 with 1 Axes>"
      ]
     },
     "metadata": {},
     "output_type": "display_data"
    }
   ],
   "source": [
    "sns.boxplot(data=df_train, x='umur')"
   ]
  },
  {
   "cell_type": "code",
   "execution_count": 36,
   "id": "2af68555-d377-42a5-ac51-1dbc0071b7f3",
   "metadata": {},
   "outputs": [
    {
     "data": {
      "text/plain": [
       "<Axes: xlabel='indeks_masa_badan'>"
      ]
     },
     "execution_count": 36,
     "metadata": {},
     "output_type": "execute_result"
    },
    {
     "data": {
      "image/png": "[encoded data removed]",
      "text/plain": [
       "<Figure size 640x480 with 1 Axes>"
      ]
     },
     "metadata": {},
     "output_type": "display_data"
    }
   ],
   "source": [
    "sns.boxplot(data=df_train, x='indeks_masa_badan')"
   ]
  },
  {
   "cell_type": "code",
   "execution_count": 37,
   "id": "42475030-c7d5-47df-9178-c570e91968da",
   "metadata": {},
   "outputs": [
    {
     "data": {
      "text/plain": [
       "<Axes: xlabel='penyakit_khusus'>"
      ]
     },
     "execution_count": 37,
     "metadata": {},
     "output_type": "execute_result"
    },
    {
     "data": {
      "image/png": "[encoded data removed]",
      "text/plain": [
       "<Figure size 640x480 with 1 Axes>"
      ]
     },
     "metadata": {},
     "output_type": "display_data"
    }
   ],
   "source": [
    "sns.boxplot(data=df_train, x='penyakit_khusus')"
   ]
  },
  {
   "cell_type": "code",
   "execution_count": 38,
   "id": "55722f35-860a-4f9a-a453-04bfdd1e98bd",
   "metadata": {},
   "outputs": [
    {
     "data": {
      "text/plain": [
       "<Axes: xlabel='jumlah_sakit_setahun_terakhir'>"
      ]
     },
     "execution_count": 38,
     "metadata": {},
     "output_type": "execute_result"
    },
    {
     "data": {
      "image/png": "[encoded data removed]",
      "text/plain": [
       "<Figure size 640x480 with 1 Axes>"
      ]
     },
     "metadata": {},
     "output_type": "display_data"
    }
   ],
   "source": [
    "sns.boxplot(data=df_train, x='jumlah_sakit_setahun_terakhir')"
   ]
  },
  {
   "cell_type": "code",
   "execution_count": 39,
   "id": "12cf295e-cbb1-43fb-a136-d71b2ac3e8f2",
   "metadata": {},
   "outputs": [
    {
     "data": {
      "text/plain": [
       "<Axes: xlabel='count', ylabel='jenis_makanan'>"
      ]
     },
     "execution_count": 39,
     "metadata": {},
     "output_type": "execute_result"
    },
    {
     "data": {
      "image/png": "[encoded data removed]",
      "text/plain": [
       "<Figure size 640x480 with 1 Axes>"
      ]
     },
     "metadata": {},
     "output_type": "display_data"
    }
   ],
   "source": [
    "sns.countplot(data=df_train, y='jenis_makanan')"
   ]
  },
  {
   "cell_type": "markdown",
   "id": "88edbcb2-e907-49c2-94d7-b755a5f57b6d",
   "metadata": {},
   "source": [
    "## Multivariate Analysis"
   ]
  },
  {
   "cell_type": "code",
   "execution_count": 40,
   "id": "c88a0fbc-36e9-4456-a0cc-b4dca040bb40",
   "metadata": {},
   "outputs": [
    {
     "data": {
      "text/plain": [
       "<Axes: >"
      ]
     },
     "execution_count": 40,
     "metadata": {},
     "output_type": "execute_result"
    },
    {
     "data": {
      "image/png": "[encoded data removed]",
      "text/plain": [
       "<Figure size 640x480 with 2 Axes>"
      ]
     },
     "metadata": {},
     "output_type": "display_data"
    }
   ],
   "source": [
    "correlation_matrix = df_train.corr(numeric_only=True)\n",
    "# plt.figure(figsize=(20,12))\n",
    "sns.heatmap(correlation_matrix, annot=True, cmap='coolwarm', fmt='.2f')"
   ]
  },
  {
   "cell_type": "code",
   "execution_count": null,
   "id": "857818e0-7aad-47ba-8595-addf4c0c19d5",
   "metadata": {},
   "outputs": [],
   "source": []
  },
  {
   "cell_type": "code",
   "execution_count": 41,
   "id": "5aa99861-5eb7-4ceb-8759-8b9b0af066bf",
   "metadata": {
    "scrolled": true
   },
   "outputs": [
    {
     "name": "stdout",
     "output_type": "stream",
     "text": [
      "[10 20 30]\n"
     ]
    },
    {
     "data": {
      "text/html": [
       "<div>\n",
       "<style scoped>\n",
       "    .dataframe tbody tr th:only-of-type {\n",
       "        vertical-align: middle;\n",
       "    }\n",
       "\n",
       "    .dataframe tbody tr th {\n",
       "        vertical-align: top;\n",
       "    }\n",
       "\n",
       "    .dataframe thead th {\n",
       "        text-align: right;\n",
       "    }\n",
       "</style>\n",
       "<table border=\"1\" class=\"dataframe\">\n",
       "  <thead>\n",
       "    <tr style=\"text-align: right;\">\n",
       "      <th></th>\n",
       "      <th>id</th>\n",
       "      <th>values</th>\n",
       "    </tr>\n",
       "  </thead>\n",
       "  <tbody>\n",
       "    <tr>\n",
       "      <th>0</th>\n",
       "      <td>1</td>\n",
       "      <td>[10, 20, 30]</td>\n",
       "    </tr>\n",
       "    <tr>\n",
       "      <th>1</th>\n",
       "      <td>2</td>\n",
       "      <td>[40, 50, 60]</td>\n",
       "    </tr>\n",
       "    <tr>\n",
       "      <th>2</th>\n",
       "      <td>3</td>\n",
       "      <td>[70, 80, 90]</td>\n",
       "    </tr>\n",
       "    <tr>\n",
       "      <th>3</th>\n",
       "      <td>4</td>\n",
       "      <td>[100, 110, 120]</td>\n",
       "    </tr>\n",
       "  </tbody>\n",
       "</table>\n",
       "</div>"
      ],
      "text/plain": [
       "   id           values\n",
       "0   1     [10, 20, 30]\n",
       "1   2     [40, 50, 60]\n",
       "2   3     [70, 80, 90]\n",
       "3   4  [100, 110, 120]"
      ]
     },
     "execution_count": 41,
     "metadata": {},
     "output_type": "execute_result"
    }
   ],
   "source": [
    "# Create sample data\n",
    "data = {\n",
    "    'id': [1, 2, 3],\n",
    "    'values': [np.array([10, 20, 30]), np.array([40, 50, 60]), np.array([70, 80, 90])]\n",
    "}\n",
    "\n",
    "# Create DataFrame\n",
    "df = pd.DataFrame(data)\n",
    "\n",
    "# Accessing the array in the first row\n",
    "print(df.loc[0, 'values'])\n",
    "\n",
    "# Adding a new array to the DataFrame\n",
    "df.loc[3] = [4, np.array([100, 110, 120])]\n",
    "\n",
    "df"
   ]
  },
  {
   "cell_type": "markdown",
   "id": "cfe157a9-9a62-4f8a-ac9f-c6f1688859fa",
   "metadata": {},
   "source": [
    "# Predict NO CLEAN"
   ]
  },
  {
   "cell_type": "code",
   "id": "80df910b-ee5c-4409-92f6-4ac3fab078f2",
   "metadata": {
    "ExecuteTime": {
     "end_time": "2024-05-15T18:11:49.761022Z",
     "start_time": "2024-05-15T18:11:49.756510Z"
    }
   },
   "source": [
    "from sklearn.ensemble import GradientBoostingClassifier, RandomForestClassifier, AdaBoostClassifier\n",
    "from sklearn.tree import DecisionTreeClassifier\n",
    "from sklearn.svm import SVC\n",
    "from sklearn.neighbors import KNeighborsClassifier\n",
    "from sklearn.linear_model import LogisticRegression\n",
    "from sklearn.model_selection import train_test_split, cross_val_score\n",
    "from sklearn.metrics import accuracy_score"
   ],
   "outputs": [],
   "execution_count": 14
  },
  {
   "metadata": {
    "ExecuteTime": {
     "end_time": "2024-05-15T18:11:51.234496Z",
     "start_time": "2024-05-15T18:11:51.080737Z"
    }
   },
   "cell_type": "code",
   "source": [
    "# df_test['penyakit_khusus'] = 'id ' + df_test['penyakit_khusus'].astype(str)\n",
    "# df_train['penyakit_khusus'] = 'id ' + df_train['penyakit_khusus'].astype(str)\n",
    "\n",
    "# Split the strings in the 'jenis' column by space and create dummy variables\n",
    "jenis_dummies1 = df_test['jenis_makanan'].str.get_dummies(sep=' ')\n",
    "jenis_dummies2 = df_train['jenis_makanan'].str.get_dummies(sep=' ')\n",
    "\n",
    "# Concatenate the dummy variables with the original DataFrame\n",
    "df_test = pd.concat([df_test, jenis_dummies1], axis=1)\n",
    "df_train = pd.concat([df_train, jenis_dummies2], axis=1)\n",
    "\n",
    "# Drop the original 'jenis' column if needed\n",
    "df_test = df_test.drop('jenis_makanan', axis=1)\n",
    "df_train = df_train.drop('jenis_makanan', axis=1)"
   ],
   "id": "21743b435292bc65",
   "outputs": [],
   "execution_count": 15
  },
  {
   "metadata": {
    "ExecuteTime": {
     "end_time": "2024-05-15T18:11:52.879104Z",
     "start_time": "2024-05-15T18:11:52.851713Z"
    }
   },
   "cell_type": "code",
   "source": [
    "df_test = pd.get_dummies(df_test)\n",
    "simpan = df_train['sehat']\n",
    "df_train.drop('sehat', axis=1, inplace=True)\n",
    "df_train = pd.get_dummies(df_train)"
   ],
   "id": "dcfafa70484ad20b",
   "outputs": [],
   "execution_count": 16
  },
  {
   "metadata": {
    "ExecuteTime": {
     "end_time": "2024-05-15T18:11:53.078486Z",
     "start_time": "2024-05-15T18:11:53.072048Z"
    }
   },
   "cell_type": "code",
   "source": [
    "df_test = df_test.reindex(columns=df_train.columns, fill_value=0)\n",
    "df_train = df_train.reindex(columns=df_test.columns, fill_value=0)"
   ],
   "id": "f39f742d2a86b74a",
   "outputs": [],
   "execution_count": 17
  },
  {
   "cell_type": "code",
   "id": "cdf9e97d-bbf2-4fbf-8484-4c9a7b1852ad",
   "metadata": {
    "ExecuteTime": {
     "end_time": "2024-05-15T18:11:53.361434Z",
     "start_time": "2024-05-15T18:11:53.348349Z"
    }
   },
   "source": [
    "# Memisahkan fitur dan label\n",
    "X = df_train.drop(columns=['id'])  # Menghilangkan kolom 'sehat' dan 'id' dari fitur\n",
    "\n",
    "# Melakukan one-hot encoding pada fitur-fitur kategorikal\n",
    "X_encoded = pd.get_dummies(X)\n",
    "\n",
    "# Membagi data menjadi data latih dan data uji\n",
    "X_train, X_test, y_train, y_test = train_test_split(X_encoded, simpan, test_size=0.3 , random_state=42)  # tambahkan random_state"
   ],
   "outputs": [],
   "execution_count": 18
  },
  {
   "cell_type": "code",
   "id": "8ceb8743-8f2f-4b01-b520-2031a4d33f77",
   "metadata": {
    "ExecuteTime": {
     "end_time": "2024-05-15T18:11:53.821824Z",
     "start_time": "2024-05-15T18:11:53.817424Z"
    }
   },
   "source": [
    "# Definisikan fungsi untuk melatih dan mengevaluasi model\n",
    "def train_model(model, X_train, y_train, X_test, y_test):\n",
    "    # Melatih model\n",
    "    model.fit(X_train, y_train)\n",
    "    \n",
    "    # Memprediksi pada data latih dan data uji\n",
    "    train_pred = model.predict(X_train)\n",
    "    test_pred = model.predict(X_test)\n",
    "\n",
    "    # Menghitung akurasi\n",
    "    train_accuracy = accuracy_score(y_train, train_pred)\n",
    "    test_accuracy = accuracy_score(y_test, test_pred)\n",
    "\n",
    "    print(\"Accuracy on training set: {:.3f}\".format(train_accuracy))\n",
    "    print(\"Accuracy on test set: {:.3f}\".format(test_accuracy))"
   ],
   "outputs": [],
   "execution_count": 19
  },
  {
   "cell_type": "code",
   "id": "7649afb9-3ea8-4715-ba86-afadd45c7185",
   "metadata": {
    "ExecuteTime": {
     "end_time": "2024-05-15T18:11:56.225293Z",
     "start_time": "2024-05-15T18:11:54.818626Z"
    }
   },
   "source": [
    "# Membuat model Gradient Boosting\n",
    "gradient_boosting = GradientBoostingClassifier(random_state=0)\n",
    "print(\"Gradient Boosting Classifier:\")\n",
    "train_model(gradient_boosting, X_train, y_train, X_test, y_test)\n",
    "\n",
    "# # Membuat model Decision Tree\n",
    "# decision_tree = DecisionTreeClassifier(random_state=0)\n",
    "# print(\"\\nDecision Tree Classifier:\")\n",
    "# train_model(decision_tree, X_train, y_train, X_test, y_test)\n",
    "# \n",
    "# # Membuat model Random Forest\n",
    "# random_forest = RandomForestClassifier(random_state=0)\n",
    "# print(\"\\nRandom Forest Classifier:\")\n",
    "# train_model(random_forest, X_train, y_train, X_test, y_test)\n",
    "\n",
    "# # Membuat model SVM\n",
    "# svm_model = SVC()\n",
    "# print(\"\\nSupport Vector Machine Classifier:\")\n",
    "# train_model(svm_model, X_train, y_train, X_test, y_test)\n",
    "\n",
    "# # Membuat model KNN\n",
    "# knn_model = KNeighborsClassifier()\n",
    "# print(\"\\nKNeighbors Classifier:\")\n",
    "# train_model(knn_model, X_train, y_train, X_test, y_test)\n",
    "# \n",
    "# # Membuat model Logistic Regression\n",
    "# lr_model = LogisticRegression()\n",
    "# print(\"\\nLogistic Regression Classifier:\")\n",
    "# train_model(lr_model, X_train, y_train, X_test, y_test)\n",
    "# \n",
    "# # Membuat model AdaBoost\n",
    "# adaboost_model = AdaBoostClassifier()\n",
    "# print(\"\\nAdaBoostClassifier:\")\n",
    "# train_model(adaboost_model, X_train, y_train, X_test, y_test)"
   ],
   "outputs": [
    {
     "name": "stdout",
     "output_type": "stream",
     "text": [
      "Gradient Boosting Classifier:\n",
      "Accuracy on training set: 0.836\n",
      "Accuracy on test set: 0.830\n"
     ]
    }
   ],
   "execution_count": 20
  },
  {
   "cell_type": "code",
   "id": "848f1883-034c-4ba6-9004-60a2a1d930eb",
   "metadata": {
    "ExecuteTime": {
     "end_time": "2024-05-15T18:12:00.668135Z",
     "start_time": "2024-05-15T18:12:00.665610Z"
    }
   },
   "source": [
    "# df_test = df_test.reindex(columns=df_train.columns, fill_value=0)\n",
    "# df_train = df_train.reindex(columns=df_test.columns, fill_value=0)"
   ],
   "outputs": [],
   "execution_count": 21
  },
  {
   "cell_type": "code",
   "id": "e2f76097-3335-4c1f-8870-212509802758",
   "metadata": {
    "ExecuteTime": {
     "end_time": "2024-05-15T18:12:01.821614Z",
     "start_time": "2024-05-15T18:12:01.817668Z"
    }
   },
   "source": [
    "simpanid = df_test['id']\n",
    "df_test.drop('id', axis=1, inplace=True)"
   ],
   "outputs": [],
   "execution_count": 22
  },
  {
   "metadata": {
    "ExecuteTime": {
     "end_time": "2024-05-15T18:12:02.251718Z",
     "start_time": "2024-05-15T18:12:02.239023Z"
    }
   },
   "cell_type": "code",
   "source": "train_pred_df = gradient_boosting.predict(df_test)",
   "id": "70ab673b5a3914af",
   "outputs": [],
   "execution_count": 23
  },
  {
   "metadata": {
    "ExecuteTime": {
     "end_time": "2024-05-15T18:12:03.609033Z",
     "start_time": "2024-05-15T18:12:03.595034Z"
    }
   },
   "cell_type": "code",
   "source": [
    "df_test['sehat'] = train_pred_df\n",
    "df_test['id'] = simpanid\n",
    "df_subset = df_test[['id', 'sehat']]\n",
    "df_subset"
   ],
   "id": "620d65a979fa6265",
   "outputs": [
    {
     "data": {
      "text/plain": [
       "         id  sehat\n",
       "0      6774  tidak\n",
       "1      8117  tidak\n",
       "2     24780  tidak\n",
       "3      8532     ya\n",
       "4      9139  tidak\n",
       "...     ...    ...\n",
       "4983   9040  tidak\n",
       "4984  19022  tidak\n",
       "4985   2981     ya\n",
       "4986  15814  tidak\n",
       "4987  19476     ya\n",
       "\n",
       "[4988 rows x 2 columns]"
      ],
      "text/html": [
       "<div>\n",
       "<style scoped>\n",
       "    .dataframe tbody tr th:only-of-type {\n",
       "        vertical-align: middle;\n",
       "    }\n",
       "\n",
       "    .dataframe tbody tr th {\n",
       "        vertical-align: top;\n",
       "    }\n",
       "\n",
       "    .dataframe thead th {\n",
       "        text-align: right;\n",
       "    }\n",
       "</style>\n",
       "<table border=\"1\" class=\"dataframe\">\n",
       "  <thead>\n",
       "    <tr style=\"text-align: right;\">\n",
       "      <th></th>\n",
       "      <th>id</th>\n",
       "      <th>sehat</th>\n",
       "    </tr>\n",
       "  </thead>\n",
       "  <tbody>\n",
       "    <tr>\n",
       "      <th>0</th>\n",
       "      <td>6774</td>\n",
       "      <td>tidak</td>\n",
       "    </tr>\n",
       "    <tr>\n",
       "      <th>1</th>\n",
       "      <td>8117</td>\n",
       "      <td>tidak</td>\n",
       "    </tr>\n",
       "    <tr>\n",
       "      <th>2</th>\n",
       "      <td>24780</td>\n",
       "      <td>tidak</td>\n",
       "    </tr>\n",
       "    <tr>\n",
       "      <th>3</th>\n",
       "      <td>8532</td>\n",
       "      <td>ya</td>\n",
       "    </tr>\n",
       "    <tr>\n",
       "      <th>4</th>\n",
       "      <td>9139</td>\n",
       "      <td>tidak</td>\n",
       "    </tr>\n",
       "    <tr>\n",
       "      <th>...</th>\n",
       "      <td>...</td>\n",
       "      <td>...</td>\n",
       "    </tr>\n",
       "    <tr>\n",
       "      <th>4983</th>\n",
       "      <td>9040</td>\n",
       "      <td>tidak</td>\n",
       "    </tr>\n",
       "    <tr>\n",
       "      <th>4984</th>\n",
       "      <td>19022</td>\n",
       "      <td>tidak</td>\n",
       "    </tr>\n",
       "    <tr>\n",
       "      <th>4985</th>\n",
       "      <td>2981</td>\n",
       "      <td>ya</td>\n",
       "    </tr>\n",
       "    <tr>\n",
       "      <th>4986</th>\n",
       "      <td>15814</td>\n",
       "      <td>tidak</td>\n",
       "    </tr>\n",
       "    <tr>\n",
       "      <th>4987</th>\n",
       "      <td>19476</td>\n",
       "      <td>ya</td>\n",
       "    </tr>\n",
       "  </tbody>\n",
       "</table>\n",
       "<p>4988 rows × 2 columns</p>\n",
       "</div>"
      ]
     },
     "execution_count": 24,
     "metadata": {},
     "output_type": "execute_result"
    }
   ],
   "execution_count": 24
  },
  {
   "metadata": {
    "ExecuteTime": {
     "end_time": "2024-05-15T18:12:24.846199Z",
     "start_time": "2024-05-15T18:12:24.837419Z"
    }
   },
   "cell_type": "code",
   "source": "df_subset.to_csv(\"hasilml.csv\", index=False)",
   "id": "78a9534c7e1476b9",
   "outputs": [],
   "execution_count": 25
  },
  {
   "cell_type": "code",
   "execution_count": 73,
   "id": "59ac9be5-b2e6-4a49-9abc-3324c048a026",
   "metadata": {},
   "outputs": [
    {
     "name": "stdout",
     "output_type": "stream",
     "text": [
      "Epoch 1/10\n"
     ]
    },
    {
     "name": "stderr",
     "output_type": "stream",
     "text": [
      "C:\\Users\\Lenovo\\scoop\\apps\\python311\\current\\Lib\\site-packages\\keras\\src\\layers\\core\\dense.py:87: UserWarning: Do not pass an `input_shape`/`input_dim` argument to a layer. When using Sequential models, prefer using an `Input(shape)` object as the first layer in the model instead.\n",
      "  super().__init__(activity_regularizer=activity_regularizer, **kwargs)\n"
     ]
    },
    {
     "name": "stdout",
     "output_type": "stream",
     "text": [
      "\u001B[1m175/175\u001B[0m \u001B[32m━━━━━━━━━━━━━━━━━━━━\u001B[0m\u001B[37m\u001B[0m \u001B[1m3s\u001B[0m 5ms/step - accuracy: 0.6011 - loss: 0.6863 - val_accuracy: 0.7225 - val_loss: 0.5419\n",
      "Epoch 2/10\n",
      "\u001B[1m175/175\u001B[0m \u001B[32m━━━━━━━━━━━━━━━━━━━━\u001B[0m\u001B[37m\u001B[0m \u001B[1m0s\u001B[0m 2ms/step - accuracy: 0.7114 - loss: 0.5596 - val_accuracy: 0.7444 - val_loss: 0.5215\n",
      "Epoch 3/10\n",
      "\u001B[1m175/175\u001B[0m \u001B[32m━━━━━━━━━━━━━━━━━━━━\u001B[0m\u001B[37m\u001B[0m \u001B[1m0s\u001B[0m 2ms/step - accuracy: 0.7260 - loss: 0.5458 - val_accuracy: 0.7465 - val_loss: 0.5164\n",
      "Epoch 4/10\n",
      "\u001B[1m175/175\u001B[0m \u001B[32m━━━━━━━━━━━━━━━━━━━━\u001B[0m\u001B[37m\u001B[0m \u001B[1m0s\u001B[0m 2ms/step - accuracy: 0.7274 - loss: 0.5404 - val_accuracy: 0.7476 - val_loss: 0.5125\n",
      "Epoch 5/10\n",
      "\u001B[1m175/175\u001B[0m \u001B[32m━━━━━━━━━━━━━━━━━━━━\u001B[0m\u001B[37m\u001B[0m \u001B[1m0s\u001B[0m 2ms/step - accuracy: 0.7401 - loss: 0.5270 - val_accuracy: 0.7580 - val_loss: 0.5093\n",
      "Epoch 6/10\n",
      "\u001B[1m175/175\u001B[0m \u001B[32m━━━━━━━━━━━━━━━━━━━━\u001B[0m\u001B[37m\u001B[0m \u001B[1m0s\u001B[0m 2ms/step - accuracy: 0.7412 - loss: 0.5229 - val_accuracy: 0.7601 - val_loss: 0.5061\n",
      "Epoch 7/10\n",
      "\u001B[1m175/175\u001B[0m \u001B[32m━━━━━━━━━━━━━━━━━━━━\u001B[0m\u001B[37m\u001B[0m \u001B[1m0s\u001B[0m 2ms/step - accuracy: 0.7444 - loss: 0.5190 - val_accuracy: 0.7619 - val_loss: 0.5012\n",
      "Epoch 8/10\n",
      "\u001B[1m175/175\u001B[0m \u001B[32m━━━━━━━━━━━━━━━━━━━━\u001B[0m\u001B[37m\u001B[0m \u001B[1m0s\u001B[0m 2ms/step - accuracy: 0.7408 - loss: 0.5211 - val_accuracy: 0.7644 - val_loss: 0.4969\n",
      "Epoch 9/10\n",
      "\u001B[1m175/175\u001B[0m \u001B[32m━━━━━━━━━━━━━━━━━━━━\u001B[0m\u001B[37m\u001B[0m \u001B[1m0s\u001B[0m 2ms/step - accuracy: 0.7541 - loss: 0.5062 - val_accuracy: 0.7683 - val_loss: 0.4931\n",
      "Epoch 10/10\n",
      "\u001B[1m175/175\u001B[0m \u001B[32m━━━━━━━━━━━━━━━━━━━━\u001B[0m\u001B[37m\u001B[0m \u001B[1m0s\u001B[0m 2ms/step - accuracy: 0.7435 - loss: 0.5146 - val_accuracy: 0.7655 - val_loss: 0.4919\n",
      "\u001B[1m188/188\u001B[0m \u001B[32m━━━━━━━━━━━━━━━━━━━━\u001B[0m\u001B[37m\u001B[0m \u001B[1m0s\u001B[0m 1ms/step - accuracy: 0.7566 - loss: 0.5061\n",
      "Test Accuracy: 0.7607351541519165\n"
     ]
    }
   ],
   "source": [
    "import tensorflow as tf\n",
    "from tensorflow.keras.models import Sequential\n",
    "from tensorflow.keras.layers import Dense, Dropout\n",
    "from sklearn.model_selection import train_test_split\n",
    "from sklearn.preprocessing import StandardScaler\n",
    "from sklearn.preprocessing import LabelEncoder\n",
    "\n",
    "# Memisahkan fitur dan label\n",
    "X = df_train.drop(columns=['sehat', 'id'])  # Menghilangkan kolom 'sehat' dan 'id' dari fitur\n",
    "y = df_train['sehat']  # Menggunakan 'sehat' sebagai label\n",
    "\n",
    "# Initialize LabelEncoder\n",
    "label_encoder = LabelEncoder()\n",
    "\n",
    "# Encode labels (y)\n",
    "y_encoded = label_encoder.fit_transform(y)\n",
    "\n",
    "# Melakukan one-hot encoding pada fitur-fitur kategorikal\n",
    "X_encoded = pd.get_dummies(X)\n",
    "\n",
    "# Normalisasi fitur menggunakan StandardScaler\n",
    "scaler = StandardScaler()\n",
    "X_scaled = scaler.fit_transform(X_encoded)\n",
    "\n",
    "# Membagi data menjadi data latih dan data uji\n",
    "X_train, X_test, y_train, y_test = train_test_split(X_scaled, y_encoded, test_size=0.3, random_state=42)\n",
    "\n",
    "# Inisialisasi model ANN\n",
    "model = Sequential([\n",
    "    Dense(64, activation='relu', input_shape=(X_train.shape[1],)),\n",
    "    Dropout(0.5),\n",
    "    Dense(32, activation='relu'),\n",
    "    Dense(1, activation='sigmoid')\n",
    "])\n",
    "\n",
    "# Kompilasi model\n",
    "model.compile(optimizer='adam', loss='binary_crossentropy', metrics=['accuracy'])\n",
    "\n",
    "# Melatih model\n",
    "history = model.fit(X_train, y_train, epochs=10, batch_size=64, validation_split=0.2)\n",
    "\n",
    "# Evaluasi model pada data uji\n",
    "test_loss, test_accuracy = model.evaluate(X_test, y_test)\n",
    "print(\"Test Accuracy:\", test_accuracy)"
   ]
  },
  {
   "cell_type": "code",
   "execution_count": 55,
   "id": "40bfe6c4-475a-488d-ab6e-ed5b76d02054",
   "metadata": {
    "scrolled": true
   },
   "outputs": [
    {
     "name": "stdout",
     "output_type": "stream",
     "text": [
      "Accuracy: 0.46883876357560567\n"
     ]
    }
   ],
   "source": [
    "from sklearn.naive_bayes import GaussianNB\n",
    "from sklearn.model_selection import train_test_split\n",
    "from sklearn.metrics import accuracy_score\n",
    "from sklearn.preprocessing import StandardScaler\n",
    "\n",
    "# Memisahkan fitur dan label\n",
    "X = df_train.drop(columns=['sehat', 'id'])  # Menghilangkan kolom 'sehat' dan 'id' dari fitur\n",
    "y = df_train['sehat']  # Menggunakan 'sehat' sebagai label\n",
    "\n",
    "# Initialize LabelEncoder\n",
    "label_encoder = LabelEncoder()\n",
    "\n",
    "# Encode labels (y)\n",
    "y_encoded = label_encoder.fit_transform(y)\n",
    "\n",
    "# Melakukan one-hot encoding pada fitur-fitur kategorikal\n",
    "X_encoded = pd.get_dummies(X)\n",
    "\n",
    "# Normalisasi fitur menggunakan StandardScaler\n",
    "scaler = StandardScaler()\n",
    "X_scaled = scaler.fit_transform(X_encoded)\n",
    "\n",
    "# Membagi data menjadi data latih dan data uji\n",
    "X_train, X_test, y_train, y_test = train_test_split(X_scaled, y, test_size=0.3, random_state=42)\n",
    "\n",
    "# Inisialisasi model Naive Bayes\n",
    "naive_bayes = GaussianNB()\n",
    "\n",
    "# Melatih model\n",
    "naive_bayes.fit(X_train, y_train)\n",
    "\n",
    "# Memprediksi pada data uji\n",
    "y_pred = naive_bayes.predict(X_test)\n",
    "\n",
    "# Menghitung akurasi\n",
    "accuracy = accuracy_score(y_test, y_pred)\n",
    "print(\"Accuracy:\", accuracy)\n"
   ]
  },
  {
   "cell_type": "markdown",
   "id": "15c131c4-d0d2-4321-a387-9dc8b308031d",
   "metadata": {},
   "source": [
    "# PREDICT DF CLEAN UMUR "
   ]
  },
  {
   "cell_type": "code",
   "execution_count": 65,
   "id": "42cb41fb-ae8f-4524-81de-7475204019a5",
   "metadata": {},
   "outputs": [],
   "source": [
    "# Memisahkan fitur dan label\n",
    "X = df_clean_umur_train.drop(columns=['sehat', 'id'])  # Menghilangkan kolom 'sehat' dan 'id' dari fitur\n",
    "y = df_clean_umur_train['sehat']  # Menggunakan 'sehat' sebagai label\n",
    "\n",
    "# Melakukan one-hot encoding pada fitur-fitur kategorikal\n",
    "X_encoded = pd.get_dummies(X)\n",
    "\n",
    "# Membagi data menjadi data latih dan data uji\n",
    "X_train, X_test, y_train, y_test = train_test_split(X_encoded, y, test_size=0.3 , random_state=42)  # tambahkan random_state"
   ]
  },
  {
   "cell_type": "code",
   "execution_count": 66,
   "id": "71023e5b-28ac-45bb-ad6f-c5eed3d976e0",
   "metadata": {},
   "outputs": [],
   "source": [
    "# Definisikan fungsi untuk melatih dan mengevaluasi model\n",
    "def train_model(model, X_train, y_train, X_test, y_test):\n",
    "    # Melatih model\n",
    "    model.fit(X_train, y_train)\n",
    "    \n",
    "    # Memprediksi pada data latih dan data uji\n",
    "    train_pred = model.predict(X_train)\n",
    "    test_pred = model.predict(X_test)\n",
    "\n",
    "    # Menghitung akurasi\n",
    "    train_accuracy = accuracy_score(y_train, train_pred)\n",
    "    test_accuracy = accuracy_score(y_test, test_pred)\n",
    "\n",
    "    print(\"Accuracy on training set: {:.3f}\".format(train_accuracy))\n",
    "    print(\"Accuracy on test set: {:.3f}\".format(test_accuracy))"
   ]
  },
  {
   "cell_type": "code",
   "execution_count": 67,
   "id": "855db26f-3368-4210-88f8-33459f237213",
   "metadata": {},
   "outputs": [
    {
     "name": "stdout",
     "output_type": "stream",
     "text": [
      "Gradient Boosting Classifier:\n",
      "Accuracy on training set: 0.833\n",
      "Accuracy on test set: 0.817\n",
      "\n",
      "Decision Tree Classifier:\n",
      "Accuracy on training set: 1.000\n",
      "Accuracy on test set: 0.755\n",
      "\n",
      "Random Forest Classifier:\n",
      "Accuracy on training set: 0.999\n",
      "Accuracy on test set: 0.799\n",
      "\n",
      "Support Vector Machine Classifier:\n",
      "Accuracy on training set: 0.730\n",
      "Accuracy on test set: 0.727\n",
      "\n",
      "KNeighbors Classifier:\n",
      "Accuracy on training set: 0.810\n",
      "Accuracy on test set: 0.707\n",
      "\n",
      "Logistic Regression Classifier:\n"
     ]
    },
    {
     "name": "stderr",
     "output_type": "stream",
     "text": [
      "C:\\Users\\Lenovo\\scoop\\apps\\python311\\current\\Lib\\site-packages\\sklearn\\linear_model\\_logistic.py:469: ConvergenceWarning: lbfgs failed to converge (status=1):\n",
      "STOP: TOTAL NO. of ITERATIONS REACHED LIMIT.\n",
      "\n",
      "Increase the number of iterations (max_iter) or scale the data as shown in:\n",
      "    https://scikit-learn.org/stable/modules/preprocessing.html\n",
      "Please also refer to the documentation for alternative solver options:\n",
      "    https://scikit-learn.org/stable/modules/linear_model.html#logistic-regression\n",
      "  n_iter_i = _check_optimize_result(\n",
      "C:\\Users\\Lenovo\\scoop\\apps\\python311\\current\\Lib\\site-packages\\sklearn\\ensemble\\_weight_boosting.py:519: FutureWarning: The SAMME.R algorithm (the default) is deprecated and will be removed in 1.6. Use the SAMME algorithm to circumvent this warning.\n",
      "  warnings.warn(\n"
     ]
    },
    {
     "name": "stdout",
     "output_type": "stream",
     "text": [
      "Accuracy on training set: 0.735\n",
      "Accuracy on test set: 0.726\n",
      "\n",
      "AdaBoostClassifier:\n",
      "Accuracy on training set: 0.814\n",
      "Accuracy on test set: 0.803\n"
     ]
    }
   ],
   "source": [
    "# Membuat model Gradient Boosting\n",
    "gradient_boosting = GradientBoostingClassifier(random_state=0)\n",
    "print(\"Gradient Boosting Classifier:\")\n",
    "train_model(gradient_boosting, X_train, y_train, X_test, y_test)\n",
    "\n",
    "# Membuat model Decision Tree\n",
    "decision_tree = DecisionTreeClassifier(random_state=0)\n",
    "print(\"\\nDecision Tree Classifier:\")\n",
    "train_model(decision_tree, X_train, y_train, X_test, y_test)\n",
    "\n",
    "# Membuat model Random Forest\n",
    "random_forest = RandomForestClassifier(random_state=0)\n",
    "print(\"\\nRandom Forest Classifier:\")\n",
    "train_model(random_forest, X_train, y_train, X_test, y_test)\n",
    "\n",
    "# Membuat model SVM\n",
    "svm_model = SVC()\n",
    "print(\"\\nSupport Vector Machine Classifier:\")\n",
    "train_model(svm_model, X_train, y_train, X_test, y_test)\n",
    "\n",
    "# Membuat model KNN\n",
    "knn_model = KNeighborsClassifier()\n",
    "print(\"\\nKNeighbors Classifier:\")\n",
    "train_model(knn_model, X_train, y_train, X_test, y_test)\n",
    "\n",
    "# Membuat model Logistic Regression\n",
    "lr_model = LogisticRegression()\n",
    "print(\"\\nLogistic Regression Classifier:\")\n",
    "train_model(lr_model, X_train, y_train, X_test, y_test)\n",
    "\n",
    "# Membuat model AdaBoost\n",
    "adaboost_model = AdaBoostClassifier()\n",
    "print(\"\\nAdaBoostClassifier:\")\n",
    "train_model(adaboost_model, X_train, y_train, X_test, y_test)"
   ]
  },
  {
   "cell_type": "code",
   "execution_count": 53,
   "id": "d2ac3aa8-2969-47bd-bdae-c5ff8600d63d",
   "metadata": {},
   "outputs": [
    {
     "name": "stdout",
     "output_type": "stream",
     "text": [
      "Epoch 1/10\n"
     ]
    },
    {
     "name": "stderr",
     "output_type": "stream",
     "text": [
      "C:\\Users\\Lenovo\\scoop\\apps\\python311\\current\\Lib\\site-packages\\keras\\src\\layers\\core\\dense.py:87: UserWarning: Do not pass an `input_shape`/`input_dim` argument to a layer. When using Sequential models, prefer using an `Input(shape)` object as the first layer in the model instead.\n",
      "  super().__init__(activity_regularizer=activity_regularizer, **kwargs)\n"
     ]
    },
    {
     "name": "stdout",
     "output_type": "stream",
     "text": [
      "\u001B[1m172/172\u001B[0m \u001B[32m━━━━━━━━━━━━━━━━━━━━\u001B[0m\u001B[37m\u001B[0m \u001B[1m2s\u001B[0m 3ms/step - accuracy: 0.6313 - loss: 0.6578 - val_accuracy: 0.7241 - val_loss: 0.5431\n",
      "Epoch 2/10\n",
      "\u001B[1m172/172\u001B[0m \u001B[32m━━━━━━━━━━━━━━━━━━━━\u001B[0m\u001B[37m\u001B[0m \u001B[1m0s\u001B[0m 2ms/step - accuracy: 0.7109 - loss: 0.5684 - val_accuracy: 0.7383 - val_loss: 0.5253\n",
      "Epoch 3/10\n",
      "\u001B[1m172/172\u001B[0m \u001B[32m━━━━━━━━━━━━━━━━━━━━\u001B[0m\u001B[37m\u001B[0m \u001B[1m0s\u001B[0m 2ms/step - accuracy: 0.7249 - loss: 0.5443 - val_accuracy: 0.7455 - val_loss: 0.5187\n",
      "Epoch 4/10\n",
      "\u001B[1m172/172\u001B[0m \u001B[32m━━━━━━━━━━━━━━━━━━━━\u001B[0m\u001B[37m\u001B[0m \u001B[1m0s\u001B[0m 2ms/step - accuracy: 0.7376 - loss: 0.5317 - val_accuracy: 0.7565 - val_loss: 0.5154\n",
      "Epoch 5/10\n",
      "\u001B[1m172/172\u001B[0m \u001B[32m━━━━━━━━━━━━━━━━━━━━\u001B[0m\u001B[37m\u001B[0m \u001B[1m0s\u001B[0m 2ms/step - accuracy: 0.7332 - loss: 0.5331 - val_accuracy: 0.7470 - val_loss: 0.5120\n",
      "Epoch 6/10\n",
      "\u001B[1m172/172\u001B[0m \u001B[32m━━━━━━━━━━━━━━━━━━━━\u001B[0m\u001B[37m\u001B[0m \u001B[1m0s\u001B[0m 2ms/step - accuracy: 0.7368 - loss: 0.5222 - val_accuracy: 0.7488 - val_loss: 0.5097\n",
      "Epoch 7/10\n",
      "\u001B[1m172/172\u001B[0m \u001B[32m━━━━━━━━━━━━━━━━━━━━\u001B[0m\u001B[37m\u001B[0m \u001B[1m0s\u001B[0m 2ms/step - accuracy: 0.7505 - loss: 0.5128 - val_accuracy: 0.7557 - val_loss: 0.5031\n",
      "Epoch 8/10\n",
      "\u001B[1m172/172\u001B[0m \u001B[32m━━━━━━━━━━━━━━━━━━━━\u001B[0m\u001B[37m\u001B[0m \u001B[1m0s\u001B[0m 2ms/step - accuracy: 0.7489 - loss: 0.5113 - val_accuracy: 0.7601 - val_loss: 0.5001\n",
      "Epoch 9/10\n",
      "\u001B[1m172/172\u001B[0m \u001B[32m━━━━━━━━━━━━━━━━━━━━\u001B[0m\u001B[37m\u001B[0m \u001B[1m0s\u001B[0m 2ms/step - accuracy: 0.7508 - loss: 0.5079 - val_accuracy: 0.7645 - val_loss: 0.4937\n",
      "Epoch 10/10\n",
      "\u001B[1m172/172\u001B[0m \u001B[32m━━━━━━━━━━━━━━━━━━━━\u001B[0m\u001B[37m\u001B[0m \u001B[1m0s\u001B[0m 2ms/step - accuracy: 0.7589 - loss: 0.5081 - val_accuracy: 0.7670 - val_loss: 0.4885\n",
      "\u001B[1m184/184\u001B[0m \u001B[32m━━━━━━━━━━━━━━━━━━━━\u001B[0m\u001B[37m\u001B[0m \u001B[1m0s\u001B[0m 1ms/step - accuracy: 0.7536 - loss: 0.5001\n",
      "Test Accuracy: 0.7657152414321899\n"
     ]
    }
   ],
   "source": [
    "import tensorflow as tf\n",
    "from tensorflow.keras.models import Sequential\n",
    "from tensorflow.keras.layers import Dense, Dropout\n",
    "from sklearn.model_selection import train_test_split\n",
    "from sklearn.preprocessing import StandardScaler\n",
    "from sklearn.preprocessing import LabelEncoder\n",
    "\n",
    "# Memisahkan fitur dan label\n",
    "X = df_clean_umur_train.drop(columns=['sehat', 'id'])  # Menghilangkan kolom 'sehat' dan 'id' dari fitur\n",
    "y = df_clean_umur_train['sehat']  # Menggunakan 'sehat' sebagai label\n",
    "\n",
    "# Initialize LabelEncoder\n",
    "label_encoder = LabelEncoder()\n",
    "\n",
    "# Encode labels (y)\n",
    "y_encoded = label_encoder.fit_transform(y)\n",
    "\n",
    "# Melakukan one-hot encoding pada fitur-fitur kategorikal\n",
    "X_encoded = pd.get_dummies(X)\n",
    "\n",
    "# Normalisasi fitur menggunakan StandardScaler\n",
    "scaler = StandardScaler()\n",
    "X_scaled = scaler.fit_transform(X_encoded)\n",
    "\n",
    "# Membagi data menjadi data latih dan data uji\n",
    "X_train, X_test, y_train, y_test = train_test_split(X_scaled, y_encoded, test_size=0.3, random_state=42)\n",
    "\n",
    "# Inisialisasi model ANN\n",
    "model = Sequential([\n",
    "    Dense(64, activation='relu', input_shape=(X_train.shape[1],)),\n",
    "    Dropout(0.5),\n",
    "    Dense(32, activation='relu'),\n",
    "    Dense(1, activation='sigmoid')\n",
    "])\n",
    "\n",
    "# Kompilasi model\n",
    "model.compile(optimizer='adam', loss='binary_crossentropy', metrics=['accuracy'])\n",
    "\n",
    "# Melatih model\n",
    "history = model.fit(X_train, y_train, epochs=10, batch_size=64, validation_split=0.2)\n",
    "\n",
    "# Evaluasi model pada data uji\n",
    "test_loss, test_accuracy = model.evaluate(X_test, y_test)\n",
    "print(\"Test Accuracy:\", test_accuracy)"
   ]
  },
  {
   "cell_type": "code",
   "execution_count": 57,
   "id": "bd295f8a-23b8-4288-af08-9ff6fa90455f",
   "metadata": {},
   "outputs": [
    {
     "name": "stdout",
     "output_type": "stream",
     "text": [
      "Accuracy: 0.463302752293578\n"
     ]
    }
   ],
   "source": [
    "from sklearn.naive_bayes import GaussianNB\n",
    "from sklearn.model_selection import train_test_split\n",
    "from sklearn.metrics import accuracy_score\n",
    "from sklearn.preprocessing import StandardScaler\n",
    "\n",
    "# Memisahkan fitur dan label\n",
    "X = df_clean_umur_train.drop(columns=['sehat', 'id'])  # Menghilangkan kolom 'sehat' dan 'id' dari fitur\n",
    "y = df_clean_umur_train['sehat']  # Menggunakan 'sehat' sebagai label\n",
    "\n",
    "# Initialize LabelEncoder\n",
    "label_encoder = LabelEncoder()\n",
    "\n",
    "# Encode labels (y)\n",
    "y_encoded = label_encoder.fit_transform(y)\n",
    "\n",
    "# Melakukan one-hot encoding pada fitur-fitur kategorikal\n",
    "X_encoded = pd.get_dummies(X)\n",
    "\n",
    "# Normalisasi fitur menggunakan StandardScaler\n",
    "scaler = StandardScaler()\n",
    "X_scaled = scaler.fit_transform(X_encoded)\n",
    "\n",
    "# Membagi data menjadi data latih dan data uji\n",
    "X_train, X_test, y_train, y_test = train_test_split(X_scaled, y, test_size=0.3, random_state=42)\n",
    "\n",
    "# Inisialisasi model Naive Bayes\n",
    "naive_bayes = GaussianNB()\n",
    "\n",
    "# Melatih model\n",
    "naive_bayes.fit(X_train, y_train)\n",
    "\n",
    "# Memprediksi pada data uji\n",
    "y_pred = naive_bayes.predict(X_test)\n",
    "\n",
    "# Menghitung akurasi\n",
    "accuracy = accuracy_score(y_test, y_pred)\n",
    "print(\"Accuracy:\", accuracy)"
   ]
  },
  {
   "cell_type": "markdown",
   "id": "7a22a4df-0c27-41b9-a11a-0b4d464711f6",
   "metadata": {},
   "source": [
    "# PREDIKSI CSV"
   ]
  },
  {
   "cell_type": "code",
   "execution_count": null,
   "id": "d5f406f5-60df-4904-aec7-70a6127639b9",
   "metadata": {},
   "outputs": [],
   "source": [
    "df_test_encoded = pd.get_dummies(df_test.drop(columns=['fit_body', 'id']))  # Lakukan one-hot encoding jika diperlukan\n",
    "train_pred_df = gradient_boosting.predict(df_test_encoded)"
   ]
  },
  {
   "cell_type": "code",
   "execution_count": null,
   "id": "d28198d1-c6b5-41dc-9398-9d82782b84e5",
   "metadata": {},
   "outputs": [],
   "source": [
    "df_test[\"fit_body\"] = train_pred_df\n",
    "df_subset = df_test[['id', 'fit_body']]\n",
    "df_subset.to_csv(\"hasilml.csv\", index=False"
   ]
  }
 ],
 "metadata": {
  "kernelspec": {
   "display_name": "Python 3 (ipykernel)",
   "language": "python",
   "name": "python3"
  },
  "language_info": {
   "codemirror_mode": {
    "name": "ipython",
    "version": 3
   },
   "file_extension": ".py",
   "mimetype": "text/x-python",
   "name": "python",
   "nbconvert_exporter": "python",
   "pygments_lexer": "ipython3",
   "version": "3.11.9"
  }
 },
 "nbformat": 4,
 "nbformat_minor": 5
}
