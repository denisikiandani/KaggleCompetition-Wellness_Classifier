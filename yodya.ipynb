{
 "cells": [
  {
   "cell_type": "code",
   "id": "initial_id",
   "metadata": {
    "collapsed": true,
    "ExecuteTime": {
     "end_time": "2024-05-15T12:09:49.436386Z",
     "start_time": "2024-05-15T12:09:49.066889Z"
    }
   },
   "source": "import polars as pl",
   "outputs": [],
   "execution_count": 1
  },
  {
   "metadata": {
    "ExecuteTime": {
     "end_time": "2024-05-15T12:12:55.028046Z",
     "start_time": "2024-05-15T12:12:55.019537Z"
    }
   },
   "cell_type": "code",
   "source": "df_train = pl.read_csv('./dataset/train.csv')",
   "id": "b83facf6261716ab",
   "outputs": [],
   "execution_count": 6
  },
  {
   "metadata": {
    "ExecuteTime": {
     "end_time": "2024-05-15T12:12:48.935056Z",
     "start_time": "2024-05-15T12:12:48.926887Z"
    }
   },
   "cell_type": "code",
   "source": "df_train.columns",
   "id": "2a22278652b1f384",
   "outputs": [
    {
     "data": {
      "text/plain": [
       "['id',\n",
       " 'umur',\n",
       " 'indeks_masa_badan',\n",
       " 'jenis_makanan',\n",
       " 'penyakit_khusus',\n",
       " 'penyakit_keturunan',\n",
       " 'lokasi_tinggal',\n",
       " 'mengatur_pola_makan',\n",
       " 'olahraga',\n",
       " 'jam_tidur_teratur',\n",
       " 'merokok',\n",
       " 'minum_alkohol',\n",
       " 'mengkonsumsi_suplemen',\n",
       " 'memperhatikan_kesehatan_mental',\n",
       " 'bersosialisasi',\n",
       " 'jumlah_sakit_setahun_terakhir',\n",
       " 'sehat']"
      ]
     },
     "execution_count": 5,
     "metadata": {},
     "output_type": "execute_result"
    }
   ],
   "execution_count": 5
  },
  {
   "metadata": {
    "ExecuteTime": {
     "end_time": "2024-05-15T12:15:55.924845Z",
     "start_time": "2024-05-15T12:15:55.920274Z"
    }
   },
   "cell_type": "code",
   "source": "df_train['jenis_makanan'].apply()",
   "id": "92538c910b317605",
   "outputs": [
    {
     "data": {
      "text/plain": [
       "shape: (19_949,)\n",
       "Series: 'jenis_makanan' [str]\n",
       "[\n",
       "\t\"jenis4 \"\n",
       "\t\"jenis2 jenis5 \"\n",
       "\t\"jenis3 jenis5 \"\n",
       "\t\"jenis3 \"\n",
       "\t\"jenis6\"\n",
       "\t…\n",
       "\t\"jenis6\"\n",
       "\t\"jenis5 \"\n",
       "\t\"jenis6\"\n",
       "\t\"jenis2 jenis3 \"\n",
       "\t\"jenis5 \"\n",
       "]"
      ],
      "text/html": [
       "<div><style>\n",
       ".dataframe > thead > tr,\n",
       ".dataframe > tbody > tr {\n",
       "  text-align: right;\n",
       "  white-space: pre-wrap;\n",
       "}\n",
       "</style>\n",
       "<small>shape: (19_949,)</small><table border=\"1\" class=\"dataframe\"><thead><tr><th>jenis_makanan</th></tr><tr><td>str</td></tr></thead><tbody><tr><td>&quot;jenis4 &quot;</td></tr><tr><td>&quot;jenis2 jenis5 &quot;</td></tr><tr><td>&quot;jenis3 jenis5 &quot;</td></tr><tr><td>&quot;jenis3 &quot;</td></tr><tr><td>&quot;jenis6&quot;</td></tr><tr><td>&hellip;</td></tr><tr><td>&quot;jenis6&quot;</td></tr><tr><td>&quot;jenis5 &quot;</td></tr><tr><td>&quot;jenis6&quot;</td></tr><tr><td>&quot;jenis2 jenis3 &quot;</td></tr><tr><td>&quot;jenis5 &quot;</td></tr></tbody></table></div>"
      ]
     },
     "execution_count": 42,
     "metadata": {},
     "output_type": "execute_result"
    }
   ],
   "execution_count": 42
  },
  {
   "metadata": {},
   "cell_type": "code",
   "outputs": [],
   "execution_count": null,
   "source": "",
   "id": "7fef9e4d920ced4e"
  }
 ],
 "metadata": {
  "kernelspec": {
   "display_name": "Python 3",
   "language": "python",
   "name": "python3"
  },
  "language_info": {
   "codemirror_mode": {
    "name": "ipython",
    "version": 2
   },
   "file_extension": ".py",
   "mimetype": "text/x-python",
   "name": "python",
   "nbconvert_exporter": "python",
   "pygments_lexer": "ipython2",
   "version": "2.7.6"
  }
 },
 "nbformat": 4,
 "nbformat_minor": 5
}
